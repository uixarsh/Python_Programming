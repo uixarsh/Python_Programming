{
  "nbformat": 4,
  "nbformat_minor": 0,
  "metadata": {
    "colab": {
      "provenance": [],
      "authorship_tag": "ABX9TyOXeMa2fgk41cX+Pxn8p9uU",
      "include_colab_link": true
    },
    "kernelspec": {
      "name": "python3",
      "display_name": "Python 3"
    },
    "language_info": {
      "name": "python"
    }
  },
  "cells": [
    {
      "cell_type": "markdown",
      "metadata": {
        "id": "view-in-github",
        "colab_type": "text"
      },
      "source": [
        "<a href=\"https://colab.research.google.com/github/uixarsh/Python_Programming/blob/master/Recursions.ipynb\" target=\"_parent\"><img src=\"https://colab.research.google.com/assets/colab-badge.svg\" alt=\"Open In Colab\"/></a>"
      ]
    },
    {
      "cell_type": "markdown",
      "source": [
        "SUM OF DIGITS OF A NUMBER USING RECURSION"
      ],
      "metadata": {
        "id": "3ZUTchmMXk0a"
      }
    },
    {
      "cell_type": "code",
      "source": [
        "def sum (num):\n",
        "  if num<=9:\n",
        "    return num\n",
        "  else:\n",
        "    return int(num%10)+sum(int(num/10))\n",
        "\n",
        "number = int(input(\"Enter the number of your choice : \"))\n",
        "print(sum(number))"
      ],
      "metadata": {
        "colab": {
          "base_uri": "https://localhost:8080/"
        },
        "id": "EXXa239kXtzx",
        "outputId": "8e006a34-d68d-4691-c5e6-5b68f95b187f"
      },
      "execution_count": 4,
      "outputs": [
        {
          "output_type": "stream",
          "name": "stdout",
          "text": [
            "Enter the number of your choice : 12345\n",
            "15\n"
          ]
        }
      ]
    },
    {
      "cell_type": "markdown",
      "source": [
        "PRINTING NUMBERS"
      ],
      "metadata": {
        "id": "wKahJp5BY8gk"
      }
    },
    {
      "cell_type": "code",
      "source": [
        "def printNum (num):\n",
        "  if num==0:\n",
        "    return 1\n",
        "  else:\n",
        "    print(num, end=\"\")\n",
        "    printNum(num-1)\n",
        "\n",
        "number= int(input(\"Enter the Number of your Choice : \"))\n",
        "print(printNum(number))\n",
        "\n",
        "# Why none as a Data Type got included here..."
      ],
      "metadata": {
        "colab": {
          "base_uri": "https://localhost:8080/"
        },
        "id": "07ABtq0RZGPS",
        "outputId": "2c37ddf0-1134-47e9-8e27-151e20ef5d22"
      },
      "execution_count": 16,
      "outputs": [
        {
          "output_type": "stream",
          "name": "stdout",
          "text": [
            "Enter the Number of your Choice : 5\n",
            "54321None\n"
          ]
        }
      ]
    }
  ]
}