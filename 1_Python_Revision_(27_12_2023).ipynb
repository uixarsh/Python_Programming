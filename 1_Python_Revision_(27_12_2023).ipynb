{
  "nbformat": 4,
  "nbformat_minor": 0,
  "metadata": {
    "colab": {
      "provenance": [],
      "authorship_tag": "ABX9TyOB/cJonNUZartCgJvvOoCb",
      "include_colab_link": true
    },
    "kernelspec": {
      "name": "python3",
      "display_name": "Python 3"
    },
    "language_info": {
      "name": "python"
    }
  },
  "cells": [
    {
      "cell_type": "markdown",
      "metadata": {
        "id": "view-in-github",
        "colab_type": "text"
      },
      "source": [
        "<a href=\"https://colab.research.google.com/github/uixarsh/Python_Programming/blob/master/1_Python_Revision_(27_12_2023).ipynb\" target=\"_parent\"><img src=\"https://colab.research.google.com/assets/colab-badge.svg\" alt=\"Open In Colab\"/></a>"
      ]
    },
    {
      "cell_type": "code",
      "execution_count": null,
      "metadata": {
        "colab": {
          "base_uri": "https://localhost:8080/"
        },
        "id": "b5ylvmC1x1Dp",
        "outputId": "f624f9c7-1313-46f3-8bee-815790b4e7d2"
      },
      "outputs": [
        {
          "output_type": "stream",
          "name": "stdout",
          "text": [
            "Enter your Number : 5\n",
            "1\n",
            "3\n",
            "6\n",
            "10\n",
            "15\n"
          ]
        }
      ],
      "source": [
        "num = int(input(\"Enter your Number : \"))\n",
        "sum = 0\n",
        "i=1\n",
        "while i<=num:\n",
        "  sum+=i\n",
        "  i+=1\n",
        "  print(sum)"
      ]
    },
    {
      "cell_type": "code",
      "source": [
        "'''\n",
        "i=1, sum=0, num=4 -> 1<=4 -> sum=1, i=2 -> 1\n",
        "i=2, sum=1, num=4 -> 2<=4 -> sum=3, i=3 -> 3\n",
        "i=3, sum=3, num=4 -> 3<=4 -> sum=6, i=4 -> 6\n",
        "i=4, sum=6, num=4 -> 4<=4 -> sum=10, i=5 -> 10\n",
        "i=5, sum=10, num=4 -> 5<=4 -> FALSE ........\n",
        "'''\n"
      ],
      "metadata": {
        "id": "Na8R4gHiytRF"
      },
      "execution_count": null,
      "outputs": []
    },
    {
      "cell_type": "markdown",
      "source": [
        "Right angle triangle"
      ],
      "metadata": {
        "id": "nOt0b61czxym"
      }
    },
    {
      "cell_type": "code",
      "source": [
        "n = int(input(\"Enter your Number : \"))\n",
        "for i in range (1,n+1):\n",
        "  print(\"*\"*i)"
      ],
      "metadata": {
        "colab": {
          "base_uri": "https://localhost:8080/"
        },
        "id": "92v0NhBdz0Q0",
        "outputId": "33c16637-3707-4392-c5a3-8abdefd9bbe2"
      },
      "execution_count": null,
      "outputs": [
        {
          "output_type": "stream",
          "name": "stdout",
          "text": [
            "Enter your Number : 5\n",
            "*\n",
            "**\n",
            "***\n",
            "****\n",
            "*****\n"
          ]
        }
      ]
    },
    {
      "cell_type": "markdown",
      "source": [
        "Inverted Right angle Triangle"
      ],
      "metadata": {
        "id": "_tw4Pqva0J5g"
      }
    },
    {
      "cell_type": "code",
      "source": [
        "n=int(input(\"Enter the Number : \"))\n",
        "for i in range (n,1):\n",
        "  print(\"*\"*i)\n",
        "  n-=1"
      ],
      "metadata": {
        "colab": {
          "base_uri": "https://localhost:8080/"
        },
        "id": "s3FeoC9h0NRX",
        "outputId": "07c1436b-1894-4952-973c-0db34eb1bd2c"
      },
      "execution_count": null,
      "outputs": [
        {
          "name": "stdout",
          "output_type": "stream",
          "text": [
            "Enter the Number : 5\n"
          ]
        }
      ]
    },
    {
      "cell_type": "markdown",
      "source": [
        "Hollow Pattern"
      ],
      "metadata": {
        "id": "PoefHQdQ0iOm"
      }
    },
    {
      "cell_type": "code",
      "source": [
        "n=int(input(\"Enter the Rows : \"))\n",
        "for i in range (n): # controlling Rows\n",
        "  for j in range (n): # controlling Columns.\n",
        "    if i==0 or i == n-1 or j==0 or j==n-1:\n",
        "      print(\"*\", end=\" \")\n",
        "    else:\n",
        "      print(\" \", end=\" \")\n",
        "  print() # if you remove this it will give you a clustered one."
      ],
      "metadata": {
        "colab": {
          "base_uri": "https://localhost:8080/"
        },
        "id": "MYk9Drs40j5o",
        "outputId": "b9180f16-98ea-4a88-a45b-b07b3579cd7b"
      },
      "execution_count": null,
      "outputs": [
        {
          "output_type": "stream",
          "name": "stdout",
          "text": [
            "Enter the Rows : 4\n",
            "* * * * \n",
            "*     * \n",
            "*     * \n",
            "* * * * \n"
          ]
        }
      ]
    },
    {
      "cell_type": "markdown",
      "source": [
        "Mirror Image of Traingle."
      ],
      "metadata": {
        "id": "rwv8Mn_R2oip"
      }
    },
    {
      "cell_type": "code",
      "source": [
        "n= int (input(\"Enter the number: \"))\n",
        "for i in range(n):\n",
        "  print(\" \", end=\"\")\n",
        "  for j in range(n+1):\n",
        "    print(n+1,end=\"\")\n",
        "  print()\n"
      ],
      "metadata": {
        "colab": {
          "base_uri": "https://localhost:8080/"
        },
        "id": "PhGACu0I2rQn",
        "outputId": "6a4d4423-d67a-42a1-ba58-1f478dab7d77"
      },
      "execution_count": null,
      "outputs": [
        {
          "output_type": "stream",
          "name": "stdout",
          "text": [
            "Enter the number: 5\n",
            " 66666\n",
            " 66666\n",
            " 66666\n",
            " 66666\n",
            " 66666\n"
          ]
        }
      ]
    },
    {
      "cell_type": "markdown",
      "source": [
        "Inverted Right angle triangle."
      ],
      "metadata": {
        "id": "IyLYUMfN3Xjm"
      }
    },
    {
      "cell_type": "code",
      "source": [
        "n=int(input(\"enter:\"))\n",
        "for i in range(n,0,-1):\n",
        "  print(\"*\"*i)"
      ],
      "metadata": {
        "colab": {
          "base_uri": "https://localhost:8080/"
        },
        "id": "_ehMVPgH3avk",
        "outputId": "760ac601-0a90-4ef9-e61a-2b1ad2619359"
      },
      "execution_count": null,
      "outputs": [
        {
          "output_type": "stream",
          "name": "stdout",
          "text": [
            "enter:6\n",
            "******\n",
            "*****\n",
            "****\n",
            "***\n",
            "**\n",
            "*\n"
          ]
        }
      ]
    },
    {
      "cell_type": "markdown",
      "source": [
        "Palindrome\n",
        "\n",
        "1111, 22222, 11233211"
      ],
      "metadata": {
        "id": "C1x3T_9W3l2m"
      }
    },
    {
      "cell_type": "code",
      "source": [
        "s = input(\"Enter Input: \")\n",
        "\n",
        "if s == s[::-1]:\n",
        "  print(f\"It is a Palindrome: {s}\")\n",
        "else:\n",
        "  print(f\"Not a Palindrome. \")"
      ],
      "metadata": {
        "colab": {
          "base_uri": "https://localhost:8080/"
        },
        "id": "BEOWzKv44TFv",
        "outputId": "40d0d530-32a9-4242-f669-96e00242bb31"
      },
      "execution_count": null,
      "outputs": [
        {
          "output_type": "stream",
          "name": "stdout",
          "text": [
            "Enter Input: 34\n",
            "Not a Palindrome. \n"
          ]
        }
      ]
    },
    {
      "cell_type": "code",
      "source": [
        "# Reverse a Number\n",
        "\n",
        "n=int(input(\"Enter your Number : \"))\n",
        "rev=0\n",
        "while n!=0:\n",
        "  num = n%10 #it gives the Last Digit\n",
        "  rev = (rev*10)+num # it starts giving the reverse digit\n",
        "  n//=10 # it breaks the initial digits from last digit\n",
        "print(rev)"
      ],
      "metadata": {
        "colab": {
          "base_uri": "https://localhost:8080/"
        },
        "id": "xLv9huia7doV",
        "outputId": "1243d5ac-a51a-40ed-cbb1-6abbe40f672a"
      },
      "execution_count": null,
      "outputs": [
        {
          "output_type": "stream",
          "name": "stdout",
          "text": [
            "Enter your Number : 789\n",
            "987\n"
          ]
        }
      ]
    },
    {
      "cell_type": "markdown",
      "source": [
        "Ternary Operator"
      ],
      "metadata": {
        "id": "6_kVjlqW92ab"
      }
    },
    {
      "cell_type": "code",
      "source": [
        "print(\"Hello\") if 10>20 else print(\"Hi\")"
      ],
      "metadata": {
        "colab": {
          "base_uri": "https://localhost:8080/"
        },
        "id": "r6xPrPv596qB",
        "outputId": "add2c141-c2b3-419f-f8fc-332198d1141e"
      },
      "execution_count": null,
      "outputs": [
        {
          "output_type": "stream",
          "name": "stdout",
          "text": [
            "Hi\n"
          ]
        }
      ]
    },
    {
      "cell_type": "markdown",
      "source": [
        "Decimal to Binary"
      ],
      "metadata": {
        "id": "1011zU0G-DEU"
      }
    },
    {
      "cell_type": "code",
      "source": [
        "def convert (num):\n",
        "  if num==0 or num==1:\n",
        "    return num\n",
        "  else:\n",
        "    convert(num%2)\n",
        "\n",
        "num = int (input(\"Enter your Number : \"))\n",
        "print(convert(num))"
      ],
      "metadata": {
        "colab": {
          "base_uri": "https://localhost:8080/"
        },
        "id": "d3Pddblc-E-c",
        "outputId": "df7ab444-faa1-4d0b-ffd0-79e611dd13a4"
      },
      "execution_count": null,
      "outputs": [
        {
          "output_type": "stream",
          "name": "stdout",
          "text": [
            "Enter your Number : 4\n",
            "0\n",
            "None\n"
          ]
        }
      ]
    },
    {
      "cell_type": "code",
      "source": [],
      "metadata": {
        "id": "aUCBtVNL-7Vd"
      },
      "execution_count": null,
      "outputs": []
    },
    {
      "cell_type": "code",
      "source": [
        "a = 23\n",
        "bin (a) # bin function for binary conversion"
      ],
      "metadata": {
        "colab": {
          "base_uri": "https://localhost:8080/",
          "height": 35
        },
        "id": "lbz-xsNU-jGN",
        "outputId": "aa3e9463-664e-4f32-88d1-86e0ec55cba9"
      },
      "execution_count": null,
      "outputs": [
        {
          "output_type": "execute_result",
          "data": {
            "text/plain": [
              "'0b10111'"
            ],
            "application/vnd.google.colaboratory.intrinsic+json": {
              "type": "string"
            }
          },
          "metadata": {},
          "execution_count": 40
        }
      ]
    },
    {
      "cell_type": "code",
      "source": [
        "d=25\n",
        "b=\"\" # an empty string that stores the Output\n",
        "if d==0:\n",
        "  print('0')\n",
        "else:\n",
        "  while d>0:\n",
        "    remainder = d%2\n",
        "    b= str(remainder) + b\n",
        "    d//=2\n",
        "print(b)"
      ],
      "metadata": {
        "colab": {
          "base_uri": "https://localhost:8080/"
        },
        "id": "5-imq8Oq-8_O",
        "outputId": "d672e68e-d7a2-4ea8-bb6c-292c97d1b0aa"
      },
      "execution_count": 49,
      "outputs": [
        {
          "output_type": "stream",
          "name": "stdout",
          "text": [
            "11001\n"
          ]
        }
      ]
    },
    {
      "cell_type": "code",
      "source": [],
      "metadata": {
        "id": "5qdv8F9zDre3"
      },
      "execution_count": null,
      "outputs": []
    },
    {
      "cell_type": "code",
      "source": [
        "x=[1,2,4]\n",
        "y=[1,2,4]\n",
        "z=x\n",
        "\n",
        "print(x is y)\n",
        "print(z is y)\n"
      ],
      "metadata": {
        "colab": {
          "base_uri": "https://localhost:8080/"
        },
        "id": "fYUWh6WxDdCh",
        "outputId": "dfa66e00-3d92-4ad5-d5b7-b4a07ce27fec"
      },
      "execution_count": 48,
      "outputs": [
        {
          "output_type": "stream",
          "name": "stdout",
          "text": [
            "False\n",
            "False\n"
          ]
        }
      ]
    },
    {
      "cell_type": "code",
      "source": [
        "x==y"
      ],
      "metadata": {
        "colab": {
          "base_uri": "https://localhost:8080/"
        },
        "id": "pT3pGOePDshR",
        "outputId": "3f5f2808-09c8-4f36-e531-5e0593874d9e"
      },
      "execution_count": 50,
      "outputs": [
        {
          "output_type": "execute_result",
          "data": {
            "text/plain": [
              "True"
            ]
          },
          "metadata": {},
          "execution_count": 50
        }
      ]
    },
    {
      "cell_type": "code",
      "source": [
        "x = int(input(\"enter : \"))\n",
        "print(\"Even\") if x%2==0 else print(\"Odd\")"
      ],
      "metadata": {
        "colab": {
          "base_uri": "https://localhost:8080/"
        },
        "id": "zBElqbc-D7pm",
        "outputId": "e4ccb053-faaa-4d5c-e0df-da8888f4d64e"
      },
      "execution_count": 51,
      "outputs": [
        {
          "output_type": "stream",
          "name": "stdout",
          "text": [
            "enter : 4\n",
            "Even\n"
          ]
        }
      ]
    }
  ]
}