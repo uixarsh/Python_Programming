{
  "nbformat": 4,
  "nbformat_minor": 0,
  "metadata": {
    "colab": {
      "provenance": []
    },
    "kernelspec": {
      "name": "python3",
      "display_name": "Python 3"
    },
    "language_info": {
      "name": "python"
    }
  },
  "cells": [
    {
      "cell_type": "markdown",
      "source": [
        "### 1. Explain the significance of Python keywords and provide examples of five keywords.\n",
        "\n",
        "Keywords in Python are reserved words that convey special meanings and cannot be used as identifiers.\n",
        "\n",
        " For example,\n",
        "\n",
        "  - `if`: Used for conditional statements\n",
        "  - `for`: Used for loop iterations\n",
        "  - `def`: Used to define functions\n",
        "  - `while`: Used to create loops based on a condition\n",
        "  - `import`: Used to import modules or packages\n",
        "\n",
        "---\n",
        "\n",
        "### 2.  Describe the rules for defining identifiers in Python and provide an example.\n",
        "\n",
        "Identifiers are names used to identify variables, functions, classes, etc. In Python, identifiers:\n",
        "\n",
        "  - Must start with a letter (a-z, A-Z) or an underscore (_).\n",
        "  - Can be followed by letters, digits, or underscores.\n",
        "  - Are case-sensitive.\n",
        "\n",
        "---\n",
        "\n",
        "### 3. What are comments in Python, and why are they useful? Provide an example.\n",
        "\n",
        "Comments in Python are texts that are ignored by the interpreter. They are used to explain code and make it more understandable. These can be single line and multi line.\n",
        "\n",
        "- Example of single line comment:"
      ],
      "metadata": {
        "id": "uoMEYRFN8GCc"
      }
    },
    {
      "cell_type": "code",
      "source": [
        "# This is a single-line comment\n",
        "x = 5  # Assigning 5 to variable x"
      ],
      "metadata": {
        "id": "gNAylsRK9iMd"
      },
      "execution_count": null,
      "outputs": []
    },
    {
      "cell_type": "markdown",
      "source": [
        "- Example of multi-line comment:"
      ],
      "metadata": {
        "id": "2Mk4QfoX8JcB"
      }
    },
    {
      "cell_type": "code",
      "execution_count": null,
      "metadata": {
        "id": "2Z7mG_cx8Dss"
      },
      "outputs": [],
      "source": [
        "\"\"\"\n",
        "This is a multi-line comment\n",
        "It spans across multiple lines\n",
        "\"\"\""
      ]
    },
    {
      "cell_type": "markdown",
      "source": [
        "---\n",
        "\n",
        "### 4. Why is proper indentation important in Python?\n",
        "\n",
        "Proper indentation is crucial in Python because it defines the structure and scope of code blocks. Incorrect indentation can lead to syntax errors or change the logical flow of the program.\n",
        "\n",
        "---\n",
        "\n",
        "### 5. What happens if indentation is incorrect in Python?\n",
        "\n",
        "Incorrect indentation can lead to syntax errors or change the logical structure of the code. For example, an improperly indented block inside a loop or condition may execute unexpectedly or throw an indentation-related error.\n",
        "\n",
        "---\n",
        "\n",
        "### 6. Differentiate between expression and statement in Python with examples.\n",
        "\n",
        "Expressions are combinations of values, variables, and operators that evaluate to a single value. Statements, on the other hand, are complete lines of code. For example:\n",
        "\n",
        "```Python\n",
        "# Expression example\n",
        "x = 5 + 3\n",
        "\n",
        "# Statement example\n",
        "if x == 8:\n",
        "    print(\"x is equal to 8\")\n",
        "```"
      ],
      "metadata": {
        "id": "RjDw3P-f90NN"
      }
    }
  ]
}