{
  "nbformat": 4,
  "nbformat_minor": 0,
  "metadata": {
    "colab": {
      "provenance": [],
      "authorship_tag": "ABX9TyPtOsiLwVrBJymR1c3zBPXV",
      "include_colab_link": true
    },
    "kernelspec": {
      "name": "python3",
      "display_name": "Python 3"
    },
    "language_info": {
      "name": "python"
    }
  },
  "cells": [
    {
      "cell_type": "markdown",
      "metadata": {
        "id": "view-in-github",
        "colab_type": "text"
      },
      "source": [
        "<a href=\"https://colab.research.google.com/github/uixarsh/Python_Programming/blob/master/2_Strings_(28_12_2023).ipynb\" target=\"_parent\"><img src=\"https://colab.research.google.com/assets/colab-badge.svg\" alt=\"Open In Colab\"/></a>"
      ]
    },
    {
      "cell_type": "markdown",
      "source": [
        "**STRINGS**"
      ],
      "metadata": {
        "id": "N36t7iYi4az-"
      }
    },
    {
      "cell_type": "code",
      "source": [
        "print(\"Welcome to python strings. \")  #double quotes\n",
        "print('Welcome to python strings. ')  # single quotes"
      ],
      "metadata": {
        "colab": {
          "base_uri": "https://localhost:8080/"
        },
        "id": "32Oy2LQs4cgc",
        "outputId": "7214f477-3fdf-4f4a-ef76-6969517bbffa"
      },
      "execution_count": null,
      "outputs": [
        {
          "output_type": "stream",
          "name": "stdout",
          "text": [
            "Welcome to python strings. \n",
            "Welcome to python strings. \n"
          ]
        }
      ]
    },
    {
      "cell_type": "code",
      "source": [
        "print(\"\"hello\n",
        "      this is arsh singhal\"\")\n",
        "#ERROR you can't do it line by line must be done under single line."
      ],
      "metadata": {
        "colab": {
          "base_uri": "https://localhost:8080/",
          "height": 140
        },
        "id": "6vRW32P853qM",
        "outputId": "28717f34-0821-4c43-83b9-cad0d8905dec"
      },
      "execution_count": null,
      "outputs": [
        {
          "output_type": "error",
          "ename": "SyntaxError",
          "evalue": "ignored",
          "traceback": [
            "\u001b[0;36m  File \u001b[0;32m\"<ipython-input-6-d8a3fde0ccf6>\"\u001b[0;36m, line \u001b[0;32m1\u001b[0m\n\u001b[0;31m    print(\"\"hello\u001b[0m\n\u001b[0m          ^\u001b[0m\n\u001b[0;31mSyntaxError\u001b[0m\u001b[0;31m:\u001b[0m invalid syntax. Perhaps you forgot a comma?\n"
          ]
        }
      ]
    },
    {
      "cell_type": "code",
      "source": [
        "''' this is a block-comment in python,\n",
        "out of which it is\n",
        "a Multi Line string'''\n",
        "\n",
        "# \\n is the escape character"
      ],
      "metadata": {
        "colab": {
          "base_uri": "https://localhost:8080/",
          "height": 35
        },
        "id": "7_ffZwxc6GlY",
        "outputId": "8a70a986-c12a-4169-a508-87972fd5c15c"
      },
      "execution_count": null,
      "outputs": [
        {
          "output_type": "execute_result",
          "data": {
            "text/plain": [
              "' this is a block-comment in python, \\nout of which it is\\na Multi Line string'"
            ],
            "application/vnd.google.colaboratory.intrinsic+json": {
              "type": "string"
            }
          },
          "metadata": {},
          "execution_count": 8
        }
      ]
    },
    {
      "cell_type": "code",
      "source": [
        "# Multi Line Strings\n",
        "\n",
        "print('''Hello\n",
        "this is\n",
        "Arsh Singhal''')\n"
      ],
      "metadata": {
        "colab": {
          "base_uri": "https://localhost:8080/"
        },
        "id": "QmwGBb7n5hYF",
        "outputId": "7048603f-532f-4b2d-a737-9a0216e83c4d"
      },
      "execution_count": null,
      "outputs": [
        {
          "output_type": "stream",
          "name": "stdout",
          "text": [
            "Hello \n",
            "this is\n",
            "Arsh Singhal\n"
          ]
        }
      ]
    },
    {
      "cell_type": "markdown",
      "source": [
        "**ESCAPE CHARACTERS**\n",
        "\n",
        "\\\\, \\\", \\t(Tab Space), \\n (New Line)"
      ],
      "metadata": {
        "id": "A_aSd3uA6zDW"
      }
    },
    {
      "cell_type": "code",
      "source": [
        "'He said that \\'She will be late\\''"
      ],
      "metadata": {
        "colab": {
          "base_uri": "https://localhost:8080/",
          "height": 35
        },
        "id": "ATWKoPYB60zL",
        "outputId": "ce31fb4e-1a47-4516-9305-5d55bf8b25e1"
      },
      "execution_count": null,
      "outputs": [
        {
          "output_type": "execute_result",
          "data": {
            "text/plain": [
              "\"He said that 'She will be late'\""
            ],
            "application/vnd.google.colaboratory.intrinsic+json": {
              "type": "string"
            }
          },
          "metadata": {},
          "execution_count": 10
        }
      ]
    },
    {
      "cell_type": "code",
      "source": [
        "#Length of a String\n",
        "\n",
        "sentence = \"This program is written in Python.\"\n",
        "print(len(sentence))"
      ],
      "metadata": {
        "colab": {
          "base_uri": "https://localhost:8080/"
        },
        "id": "KtF-XMz47C7p",
        "outputId": "538ccb7c-2fa2-49db-ead8-98b5b67c7ee9"
      },
      "execution_count": null,
      "outputs": [
        {
          "output_type": "stream",
          "name": "stdout",
          "text": [
            "34\n"
          ]
        }
      ]
    },
    {
      "cell_type": "code",
      "source": [
        "length = 0\n",
        "for i in sentence:\n",
        "  length+=1\n",
        "print(length)"
      ],
      "metadata": {
        "colab": {
          "base_uri": "https://localhost:8080/"
        },
        "id": "hcmpgGK67m8A",
        "outputId": "c3677e06-735f-4b08-de9e-806664c9cf50"
      },
      "execution_count": null,
      "outputs": [
        {
          "output_type": "stream",
          "name": "stdout",
          "text": [
            "34\n"
          ]
        }
      ]
    },
    {
      "cell_type": "markdown",
      "source": [
        "Calculate the frequency of each character in the string."
      ],
      "metadata": {
        "id": "1JSJpk_x72X6"
      }
    },
    {
      "cell_type": "code",
      "source": [
        "count = 0\n",
        "sentence = \"This program is written in Python\"\n",
        "for i in sentence:\n",
        "  if 'a' == sentence[i]:\n",
        "    count+=1\n",
        "print(count)"
      ],
      "metadata": {
        "id": "MaMDREHW74hN"
      },
      "execution_count": null,
      "outputs": []
    },
    {
      "cell_type": "code",
      "source": [
        "sentence='This program is written in Python'\n",
        "print(sentence)\n",
        "\n",
        "letter_count = {}\n",
        "for letter in sentence:\n",
        "  if letter in letter_count:\n",
        "    letter_count[letter] +=1\n",
        "  else:\n",
        "    letter_count[letter]=1\n",
        "print(letter_count)"
      ],
      "metadata": {
        "id": "vX4yCF_49l6Y"
      },
      "execution_count": null,
      "outputs": []
    },
    {
      "cell_type": "markdown",
      "source": [
        "**SPLIT FUNCTION**"
      ],
      "metadata": {
        "id": "un18U6xT-M0k"
      }
    },
    {
      "cell_type": "code",
      "source": [
        "sentence = '''this is a block-comment in python,\n",
        "out of which it is\n",
        "a Multi Line string'''\n",
        "print(sentence)\n",
        "\n",
        "sentence.split() # split default input is blank space \" \""
      ],
      "metadata": {
        "colab": {
          "base_uri": "https://localhost:8080/"
        },
        "id": "O_j3bza69fSd",
        "outputId": "c647b65e-2dbb-4112-b83d-592715b17c8e"
      },
      "execution_count": null,
      "outputs": [
        {
          "output_type": "stream",
          "name": "stdout",
          "text": [
            "this is a block-comment in python, \n",
            "out of which it is\n",
            "a Multi Line string\n"
          ]
        },
        {
          "output_type": "execute_result",
          "data": {
            "text/plain": [
              "['this',\n",
              " 'is',\n",
              " 'a',\n",
              " 'block-comment',\n",
              " 'in',\n",
              " 'python,',\n",
              " 'out',\n",
              " 'of',\n",
              " 'which',\n",
              " 'it',\n",
              " 'is',\n",
              " 'a',\n",
              " 'Multi',\n",
              " 'Line',\n",
              " 'string']"
            ]
          },
          "metadata": {},
          "execution_count": 20
        }
      ]
    },
    {
      "cell_type": "code",
      "source": [
        "sentence"
      ],
      "metadata": {
        "colab": {
          "base_uri": "https://localhost:8080/",
          "height": 35
        },
        "id": "KZbUYFLk-DV3",
        "outputId": "8e72a888-d2b3-48d7-d57c-e935b3bbe62a"
      },
      "execution_count": null,
      "outputs": [
        {
          "output_type": "execute_result",
          "data": {
            "text/plain": [
              "'this is a block-comment in python, \\nout of which it is\\na Multi Line string'"
            ],
            "application/vnd.google.colaboratory.intrinsic+json": {
              "type": "string"
            }
          },
          "metadata": {},
          "execution_count": 21
        }
      ]
    },
    {
      "cell_type": "code",
      "source": [
        "sentence.split('\\n') # splitting on the basis of \\n denoted by list"
      ],
      "metadata": {
        "colab": {
          "base_uri": "https://localhost:8080/"
        },
        "id": "EnNqUpP0-GZR",
        "outputId": "aa0b7d88-1ab6-442a-e868-d6cd8e95ab29"
      },
      "execution_count": null,
      "outputs": [
        {
          "output_type": "execute_result",
          "data": {
            "text/plain": [
              "['this is a block-comment in python, ',\n",
              " 'out of which it is',\n",
              " 'a Multi Line string']"
            ]
          },
          "metadata": {},
          "execution_count": 22
        }
      ]
    },
    {
      "cell_type": "code",
      "source": [
        "text = \"Python,Java,C++,Ruby\"\n",
        "\n",
        "text.split(',') # splitted on the basis of comma and gets inside a list"
      ],
      "metadata": {
        "colab": {
          "base_uri": "https://localhost:8080/"
        },
        "id": "pLUgxLNh-OyX",
        "outputId": "120cf71a-5046-4132-a8cb-bea1a8095b3c"
      },
      "execution_count": null,
      "outputs": [
        {
          "output_type": "execute_result",
          "data": {
            "text/plain": [
              "['Python', 'Java', 'C++', 'Ruby']"
            ]
          },
          "metadata": {},
          "execution_count": 25
        }
      ]
    },
    {
      "cell_type": "code",
      "source": [
        "s = 'hello, Welcom to Java Session'\n",
        "\n",
        "s.replace('Java', 'Python')"
      ],
      "metadata": {
        "colab": {
          "base_uri": "https://localhost:8080/",
          "height": 35
        },
        "id": "a6KOhqVo_EPh",
        "outputId": "c443b762-263f-4ce3-ca13-39b82cd25dce"
      },
      "execution_count": null,
      "outputs": [
        {
          "output_type": "execute_result",
          "data": {
            "text/plain": [
              "'hello, Welcom to Python Session'"
            ],
            "application/vnd.google.colaboratory.intrinsic+json": {
              "type": "string"
            }
          },
          "metadata": {},
          "execution_count": 26
        }
      ]
    },
    {
      "cell_type": "code",
      "source": [
        "' '.join(text)"
      ],
      "metadata": {
        "id": "_OEAVDM7_Vjz",
        "colab": {
          "base_uri": "https://localhost:8080/",
          "height": 35
        },
        "outputId": "c9c62107-e3f9-49b5-e8c0-9d47be803b48"
      },
      "execution_count": 27,
      "outputs": [
        {
          "output_type": "execute_result",
          "data": {
            "text/plain": [
              "'P y t h o n , J a v a , C + + , R u b y'"
            ],
            "application/vnd.google.colaboratory.intrinsic+json": {
              "type": "string"
            }
          },
          "metadata": {},
          "execution_count": 27
        }
      ]
    },
    {
      "cell_type": "code",
      "source": [
        "s = 'Hello welcome to java session, java is good'\n",
        "s.replace('java', 'Python')"
      ],
      "metadata": {
        "colab": {
          "base_uri": "https://localhost:8080/",
          "height": 35
        },
        "id": "_30qYT9ZAN04",
        "outputId": "523a722d-c74f-4b8e-f05b-95fd44c38d7e"
      },
      "execution_count": 28,
      "outputs": [
        {
          "output_type": "execute_result",
          "data": {
            "text/plain": [
              "'Hello welcome to Python session, Python is good'"
            ],
            "application/vnd.google.colaboratory.intrinsic+json": {
              "type": "string"
            }
          },
          "metadata": {},
          "execution_count": 28
        }
      ]
    },
    {
      "cell_type": "code",
      "source": [
        "sentence = \"This is my sentence with multiple characters.\"\n",
        "#Dictionary => key: value\n",
        "replacements = {'sentence':'statement', 'multiple':'single', 'characters':'letters'}\n",
        "\n",
        "for i,j in replacements.items():  # i,j => key value pairs ke liye\n",
        "  sentence = sentence.replace(i,j)\n",
        "print(sentence)"
      ],
      "metadata": {
        "colab": {
          "base_uri": "https://localhost:8080/"
        },
        "id": "zLUO1C-MAWPj",
        "outputId": "4b530c32-8422-495e-fdbf-d1ef44726616"
      },
      "execution_count": 29,
      "outputs": [
        {
          "output_type": "stream",
          "name": "stdout",
          "text": [
            "This is my statement with single letters.\n"
          ]
        }
      ]
    },
    {
      "cell_type": "code",
      "source": [
        "replacements.items()"
      ],
      "metadata": {
        "colab": {
          "base_uri": "https://localhost:8080/"
        },
        "id": "Chb5b6UyBeKx",
        "outputId": "d1c71e1a-0d67-4015-e57d-11ace14b648a"
      },
      "execution_count": 34,
      "outputs": [
        {
          "output_type": "execute_result",
          "data": {
            "text/plain": [
              "dict_items([('sentence', 'statement'), ('multiple', 'single'), ('characters', 'letters')])"
            ]
          },
          "metadata": {},
          "execution_count": 34
        }
      ]
    },
    {
      "cell_type": "code",
      "source": [
        "replacements.keys()\n"
      ],
      "metadata": {
        "colab": {
          "base_uri": "https://localhost:8080/"
        },
        "id": "7cAve-bZBEWA",
        "outputId": "bc91cf1d-614e-4bd6-bb80-76dbb3461d70"
      },
      "execution_count": 30,
      "outputs": [
        {
          "output_type": "execute_result",
          "data": {
            "text/plain": [
              "dict_keys(['sentence', 'multiple', 'characters'])"
            ]
          },
          "metadata": {},
          "execution_count": 30
        }
      ]
    },
    {
      "cell_type": "code",
      "source": [
        "replacements.values()"
      ],
      "metadata": {
        "colab": {
          "base_uri": "https://localhost:8080/"
        },
        "id": "ydvjUwuVBId4",
        "outputId": "474140c7-f9ac-486f-964c-915da24cdf1b"
      },
      "execution_count": 31,
      "outputs": [
        {
          "output_type": "execute_result",
          "data": {
            "text/plain": [
              "dict_values(['statement', 'single', 'letters'])"
            ]
          },
          "metadata": {},
          "execution_count": 31
        }
      ]
    },
    {
      "cell_type": "code",
      "source": [
        "replacements"
      ],
      "metadata": {
        "colab": {
          "base_uri": "https://localhost:8080/"
        },
        "id": "u8-2YADQBOK-",
        "outputId": "f4b2bd97-aab6-417c-a0e2-c646ed094ffb"
      },
      "execution_count": 32,
      "outputs": [
        {
          "output_type": "execute_result",
          "data": {
            "text/plain": [
              "{'sentence': 'statement', 'multiple': 'single', 'characters': 'letters'}"
            ]
          },
          "metadata": {},
          "execution_count": 32
        }
      ]
    },
    {
      "cell_type": "markdown",
      "source": [
        "TEXT FUNCTIONS\n",
        "\n",
        "-uppercase\n",
        "-lowercase\n",
        "-titlecase"
      ],
      "metadata": {
        "id": "gDPc7lHqBsfk"
      }
    },
    {
      "cell_type": "code",
      "source": [
        "statement=\"Hey this is Python\"\n",
        "\n",
        "statement.upper()"
      ],
      "metadata": {
        "colab": {
          "base_uri": "https://localhost:8080/",
          "height": 35
        },
        "id": "xaBpYNqWBw72",
        "outputId": "2177a8b3-4bed-4321-abc9-0e8e6d3a92aa"
      },
      "execution_count": 35,
      "outputs": [
        {
          "output_type": "execute_result",
          "data": {
            "text/plain": [
              "'HEY THIS IS PYTHON'"
            ],
            "application/vnd.google.colaboratory.intrinsic+json": {
              "type": "string"
            }
          },
          "metadata": {},
          "execution_count": 35
        }
      ]
    },
    {
      "cell_type": "code",
      "source": [
        "statement.lower()"
      ],
      "metadata": {
        "colab": {
          "base_uri": "https://localhost:8080/",
          "height": 35
        },
        "id": "f3cMpnZjB3Ta",
        "outputId": "db74ce9f-5afb-4824-c39e-7735f45489cf"
      },
      "execution_count": 36,
      "outputs": [
        {
          "output_type": "execute_result",
          "data": {
            "text/plain": [
              "'hey this is python'"
            ],
            "application/vnd.google.colaboratory.intrinsic+json": {
              "type": "string"
            }
          },
          "metadata": {},
          "execution_count": 36
        }
      ]
    },
    {
      "cell_type": "code",
      "source": [
        "statement.title()"
      ],
      "metadata": {
        "colab": {
          "base_uri": "https://localhost:8080/",
          "height": 35
        },
        "id": "ZTCGMRj8B5rl",
        "outputId": "6a310ad9-d241-45d8-db38-aa8b1d839018"
      },
      "execution_count": 37,
      "outputs": [
        {
          "output_type": "execute_result",
          "data": {
            "text/plain": [
              "'Hey This Is Python'"
            ],
            "application/vnd.google.colaboratory.intrinsic+json": {
              "type": "string"
            }
          },
          "metadata": {},
          "execution_count": 37
        }
      ]
    },
    {
      "cell_type": "code",
      "source": [
        "statement.capitalize()"
      ],
      "metadata": {
        "colab": {
          "base_uri": "https://localhost:8080/",
          "height": 35
        },
        "id": "B5tPumdzB9Sw",
        "outputId": "95f906d9-0c8f-4514-a546-9af241510b15"
      },
      "execution_count": 38,
      "outputs": [
        {
          "output_type": "execute_result",
          "data": {
            "text/plain": [
              "'Hey this is python'"
            ],
            "application/vnd.google.colaboratory.intrinsic+json": {
              "type": "string"
            }
          },
          "metadata": {},
          "execution_count": 38
        }
      ]
    },
    {
      "cell_type": "code",
      "source": [
        "# to find out in which case\n",
        "\n",
        "statement.isupper()"
      ],
      "metadata": {
        "colab": {
          "base_uri": "https://localhost:8080/"
        },
        "id": "FuofSDnvCBsf",
        "outputId": "f7b1fc0e-c1c5-4466-e640-6f9471b2aebf"
      },
      "execution_count": 39,
      "outputs": [
        {
          "output_type": "execute_result",
          "data": {
            "text/plain": [
              "False"
            ]
          },
          "metadata": {},
          "execution_count": 39
        }
      ]
    },
    {
      "cell_type": "code",
      "source": [
        "statement.islower()"
      ],
      "metadata": {
        "colab": {
          "base_uri": "https://localhost:8080/"
        },
        "id": "O0z-1krqCL5P",
        "outputId": "cb29390d-ff03-4705-e1a9-7e75821a2b53"
      },
      "execution_count": 41,
      "outputs": [
        {
          "output_type": "execute_result",
          "data": {
            "text/plain": [
              "False"
            ]
          },
          "metadata": {},
          "execution_count": 41
        }
      ]
    },
    {
      "cell_type": "code",
      "source": [
        "statement.istitle()"
      ],
      "metadata": {
        "colab": {
          "base_uri": "https://localhost:8080/"
        },
        "id": "FS2xqD9uCPOe",
        "outputId": "16328663-8563-4c68-f3f8-e802508e293f"
      },
      "execution_count": 42,
      "outputs": [
        {
          "output_type": "execute_result",
          "data": {
            "text/plain": [
              "False"
            ]
          },
          "metadata": {},
          "execution_count": 42
        }
      ]
    },
    {
      "cell_type": "code",
      "source": [
        "statement.iscapitalize()\n",
        "\n",
        "# NO FUNCTION LIKE THIS"
      ],
      "metadata": {
        "id": "EgwryiQWCScQ"
      },
      "execution_count": null,
      "outputs": []
    },
    {
      "cell_type": "markdown",
      "source": [
        "**SLICING OF A STRING**\n"
      ],
      "metadata": {
        "id": "2WXaEPMjCs27"
      }
    },
    {
      "cell_type": "code",
      "source": [
        "statement[0]"
      ],
      "metadata": {
        "colab": {
          "base_uri": "https://localhost:8080/",
          "height": 35
        },
        "id": "bne1n8uvCwdK",
        "outputId": "4131cd78-caef-4763-c926-cea220a558e3"
      },
      "execution_count": 47,
      "outputs": [
        {
          "output_type": "execute_result",
          "data": {
            "text/plain": [
              "'H'"
            ],
            "application/vnd.google.colaboratory.intrinsic+json": {
              "type": "string"
            }
          },
          "metadata": {},
          "execution_count": 47
        }
      ]
    },
    {
      "cell_type": "code",
      "source": [
        "statement[0:5]"
      ],
      "metadata": {
        "colab": {
          "base_uri": "https://localhost:8080/",
          "height": 35
        },
        "id": "0q5CUGinC7ym",
        "outputId": "3f2a8215-87bc-4736-829c-2ea7677c694c"
      },
      "execution_count": 48,
      "outputs": [
        {
          "output_type": "execute_result",
          "data": {
            "text/plain": [
              "'Hey t'"
            ],
            "application/vnd.google.colaboratory.intrinsic+json": {
              "type": "string"
            }
          },
          "metadata": {},
          "execution_count": 48
        }
      ]
    },
    {
      "cell_type": "code",
      "source": [
        "statement[1]"
      ],
      "metadata": {
        "colab": {
          "base_uri": "https://localhost:8080/",
          "height": 35
        },
        "id": "VwxVTgnhC-cl",
        "outputId": "48af9c79-e407-4ea8-dead-824c9f736b13"
      },
      "execution_count": 49,
      "outputs": [
        {
          "output_type": "execute_result",
          "data": {
            "text/plain": [
              "'e'"
            ],
            "application/vnd.google.colaboratory.intrinsic+json": {
              "type": "string"
            }
          },
          "metadata": {},
          "execution_count": 49
        }
      ]
    },
    {
      "cell_type": "code",
      "source": [
        "# How to find a particular position number.\n",
        "s='Hello, how re u'\n",
        "\n",
        "s.find('how')"
      ],
      "metadata": {
        "colab": {
          "base_uri": "https://localhost:8080/"
        },
        "id": "b_Z5uyYqDBIO",
        "outputId": "2878f5a2-36db-4cc7-9628-753ab70a45eb"
      },
      "execution_count": 50,
      "outputs": [
        {
          "output_type": "execute_result",
          "data": {
            "text/plain": [
              "7"
            ]
          },
          "metadata": {},
          "execution_count": 50
        }
      ]
    },
    {
      "cell_type": "code",
      "source": [
        "s.index('how')"
      ],
      "metadata": {
        "colab": {
          "base_uri": "https://localhost:8080/"
        },
        "id": "VIimDIAMD2U-",
        "outputId": "1b037788-a895-4b18-f8f9-7a4345542ff4"
      },
      "execution_count": 51,
      "outputs": [
        {
          "output_type": "execute_result",
          "data": {
            "text/plain": [
              "7"
            ]
          },
          "metadata": {},
          "execution_count": 51
        }
      ]
    },
    {
      "cell_type": "code",
      "source": [
        "# REMOVE A CHARACTER FROM STRING\n",
        "x = s.find(',')\n",
        "s.replace(',','')"
      ],
      "metadata": {
        "colab": {
          "base_uri": "https://localhost:8080/",
          "height": 35
        },
        "id": "ek2TXe70D95v",
        "outputId": "e268976b-972e-4b0c-9e13-c2c148d85ba5"
      },
      "execution_count": 52,
      "outputs": [
        {
          "output_type": "execute_result",
          "data": {
            "text/plain": [
              "'Hello how re u'"
            ],
            "application/vnd.google.colaboratory.intrinsic+json": {
              "type": "string"
            }
          },
          "metadata": {},
          "execution_count": 52
        }
      ]
    },
    {
      "cell_type": "markdown",
      "source": [],
      "metadata": {
        "id": "ErwJF4nzExrz"
      }
    },
    {
      "cell_type": "code",
      "source": [
        "import string"
      ],
      "metadata": {
        "id": "Z5lxYUveEq1W"
      },
      "execution_count": 53,
      "outputs": []
    },
    {
      "cell_type": "code",
      "source": [
        "string.ascii_letters"
      ],
      "metadata": {
        "colab": {
          "base_uri": "https://localhost:8080/",
          "height": 35
        },
        "id": "Hldfc-SqFcPd",
        "outputId": "e8236671-5b96-4e02-e6e6-b75f7b472d60"
      },
      "execution_count": 54,
      "outputs": [
        {
          "output_type": "execute_result",
          "data": {
            "text/plain": [
              "'abcdefghijklmnopqrstuvwxyzABCDEFGHIJKLMNOPQRSTUVWXYZ'"
            ],
            "application/vnd.google.colaboratory.intrinsic+json": {
              "type": "string"
            }
          },
          "metadata": {},
          "execution_count": 54
        }
      ]
    },
    {
      "cell_type": "code",
      "source": [
        "string.ascii_lowercase"
      ],
      "metadata": {
        "colab": {
          "base_uri": "https://localhost:8080/",
          "height": 35
        },
        "id": "pmO6SurUFnfr",
        "outputId": "3e9ef70c-85a8-43fe-d734-6b34254eace5"
      },
      "execution_count": 55,
      "outputs": [
        {
          "output_type": "execute_result",
          "data": {
            "text/plain": [
              "'abcdefghijklmnopqrstuvwxyz'"
            ],
            "application/vnd.google.colaboratory.intrinsic+json": {
              "type": "string"
            }
          },
          "metadata": {},
          "execution_count": 55
        }
      ]
    },
    {
      "cell_type": "code",
      "source": [
        "import random\n",
        "n = int(input(\"Enter the length of your passowd (min 8 characters) : \"))\n",
        "x = random.shuffle(string.ascii_letters)"
      ],
      "metadata": {
        "id": "cFrELGyHFxK0"
      },
      "execution_count": null,
      "outputs": []
    },
    {
      "cell_type": "code",
      "source": [
        "string.digits"
      ],
      "metadata": {
        "colab": {
          "base_uri": "https://localhost:8080/",
          "height": 35
        },
        "id": "feho1Z7JJY_L",
        "outputId": "a2449dae-f818-4d06-8e8b-5dec3cef6e6f"
      },
      "execution_count": 60,
      "outputs": [
        {
          "output_type": "execute_result",
          "data": {
            "text/plain": [
              "'0123456789'"
            ],
            "application/vnd.google.colaboratory.intrinsic+json": {
              "type": "string"
            }
          },
          "metadata": {},
          "execution_count": 60
        }
      ]
    },
    {
      "cell_type": "code",
      "source": [
        "string.ascii_letters"
      ],
      "metadata": {
        "colab": {
          "base_uri": "https://localhost:8080/",
          "height": 35
        },
        "id": "svHJHQoNJeSK",
        "outputId": "c8b6df37-40e5-4863-bfdd-99c57a7b17ae"
      },
      "execution_count": 61,
      "outputs": [
        {
          "output_type": "execute_result",
          "data": {
            "text/plain": [
              "'abcdefghijklmnopqrstuvwxyzABCDEFGHIJKLMNOPQRSTUVWXYZ'"
            ],
            "application/vnd.google.colaboratory.intrinsic+json": {
              "type": "string"
            }
          },
          "metadata": {},
          "execution_count": 61
        }
      ]
    },
    {
      "cell_type": "code",
      "source": [
        "string.punctuation"
      ],
      "metadata": {
        "colab": {
          "base_uri": "https://localhost:8080/",
          "height": 35
        },
        "id": "DOFaIQInJg_G",
        "outputId": "17c19b7a-c3eb-490e-a570-efeb1b2bff41"
      },
      "execution_count": 62,
      "outputs": [
        {
          "output_type": "execute_result",
          "data": {
            "text/plain": [
              "'!\"#$%&\\'()*+,-./:;<=>?@[\\\\]^_`{|}~'"
            ],
            "application/vnd.google.colaboratory.intrinsic+json": {
              "type": "string"
            }
          },
          "metadata": {},
          "execution_count": 62
        }
      ]
    },
    {
      "cell_type": "code",
      "source": [
        "char = string.ascii_letters + string.digits + string.punctuation\n",
        "char"
      ],
      "metadata": {
        "colab": {
          "base_uri": "https://localhost:8080/",
          "height": 53
        },
        "id": "Oi59JSQxJDg4",
        "outputId": "42907dd0-1283-4e2e-cdac-50cf1b3dd49e"
      },
      "execution_count": 63,
      "outputs": [
        {
          "output_type": "execute_result",
          "data": {
            "text/plain": [
              "'abcdefghijklmnopqrstuvwxyzABCDEFGHIJKLMNOPQRSTUVWXYZ0123456789!\"#$%&\\'()*+,-./:;<=>?@[\\\\]^_`{|}~'"
            ],
            "application/vnd.google.colaboratory.intrinsic+json": {
              "type": "string"
            }
          },
          "metadata": {},
          "execution_count": 63
        }
      ]
    },
    {
      "cell_type": "code",
      "source": [
        "random.choices(char,k = 12)"
      ],
      "metadata": {
        "colab": {
          "base_uri": "https://localhost:8080/"
        },
        "id": "Va7KKpiHJoIZ",
        "outputId": "ec2422f0-dac4-4cce-e51b-49584995d395"
      },
      "execution_count": 68,
      "outputs": [
        {
          "output_type": "execute_result",
          "data": {
            "text/plain": [
              "['e', '$', '<', '8', 'g', ':', ')', 'l']"
            ]
          },
          "metadata": {},
          "execution_count": 68
        }
      ]
    },
    {
      "cell_type": "code",
      "source": [
        "res = random.choices(char, k = 12)\n",
        "print(res)  # It gives you are giving a list of characters.\n",
        "print()\n",
        "password = ''.join(res)\n",
        "print(password)"
      ],
      "metadata": {
        "colab": {
          "base_uri": "https://localhost:8080/"
        },
        "id": "TO9ID6kMJ67K",
        "outputId": "2794ace0-2373-437a-d4c8-810f12e4adda"
      },
      "execution_count": 88,
      "outputs": [
        {
          "output_type": "stream",
          "name": "stdout",
          "text": [
            "['&', '|', '.', 'v', '5', ';', 'Y', 'G', ':', ')', '[', \"'\"]\n",
            "\n",
            "&|.v5;YG:)['\n"
          ]
        }
      ]
    },
    {
      "cell_type": "markdown",
      "source": [
        "atleast one uppercase, one digit and one special character....."
      ],
      "metadata": {
        "id": "Ozy0ueSfLIjy"
      }
    },
    {
      "cell_type": "code",
      "source": [
        "import re # Regular Expression"
      ],
      "metadata": {
        "id": "LCnaA_5ULQGJ"
      },
      "execution_count": 74,
      "outputs": []
    },
    {
      "cell_type": "code",
      "source": [
        "# RegEx Modules in Python....\n",
        "\n",
        "x = re.search(\"fD5orZ+n6^O%\", password)\n",
        "\n",
        "if x:\n",
        "  print(\"YES! Password is correct!\")\n",
        "else:\n",
        "  print(\"No match\")\n"
      ],
      "metadata": {
        "colab": {
          "base_uri": "https://localhost:8080/"
        },
        "id": "8Rlg59J_LVQJ",
        "outputId": "ce014e90-3aa8-4bed-9306-e4ef5352ec77"
      },
      "execution_count": 90,
      "outputs": [
        {
          "output_type": "stream",
          "name": "stdout",
          "text": [
            "No match\n"
          ]
        }
      ]
    },
    {
      "cell_type": "markdown",
      "source": [
        "strip Fuction -> to remove white spaces...\n"
      ],
      "metadata": {
        "id": "rmRBUMUeM7y0"
      }
    },
    {
      "cell_type": "code",
      "source": [
        "a = \"     #Hello, adfda adfkj ;df\"\n",
        "a.strip(' #')"
      ],
      "metadata": {
        "colab": {
          "base_uri": "https://localhost:8080/",
          "height": 35
        },
        "id": "O8Bkpe7LNBJa",
        "outputId": "b1d73fa6-1e0c-4565-f8e3-3707dc11c5f2"
      },
      "execution_count": 84,
      "outputs": [
        {
          "output_type": "execute_result",
          "data": {
            "text/plain": [
              "'Hello, adfda adfkj ;df'"
            ],
            "application/vnd.google.colaboratory.intrinsic+json": {
              "type": "string"
            }
          },
          "metadata": {},
          "execution_count": 84
        }
      ]
    },
    {
      "cell_type": "code",
      "source": [],
      "metadata": {
        "id": "ZLGr-fPzNEQu"
      },
      "execution_count": null,
      "outputs": []
    }
  ]
}