{
  "nbformat": 4,
  "nbformat_minor": 0,
  "metadata": {
    "colab": {
      "provenance": [],
      "collapsed_sections": [
        "U-Un7xCiA4KO"
      ],
      "authorship_tag": "ABX9TyN2YN9TFjwChqfNaMVN1yG2",
      "include_colab_link": true
    },
    "kernelspec": {
      "name": "python3",
      "display_name": "Python 3"
    },
    "language_info": {
      "name": "python"
    }
  },
  "cells": [
    {
      "cell_type": "markdown",
      "metadata": {
        "id": "view-in-github",
        "colab_type": "text"
      },
      "source": [
        "<a href=\"https://colab.research.google.com/github/uixarsh/Python_Programming/blob/master/3_Strings_%26_List_(29_12_2023).ipynb\" target=\"_parent\"><img src=\"https://colab.research.google.com/assets/colab-badge.svg\" alt=\"Open In Colab\"/></a>"
      ]
    },
    {
      "cell_type": "markdown",
      "source": [
        "# **String Formatting**"
      ],
      "metadata": {
        "id": "U-Un7xCiA4KO"
      }
    },
    {
      "cell_type": "code",
      "source": [
        "name = input(\"Enter your name : \")\n",
        "age = int(input(\"Enter your Age : \"))\n",
        "print(\"my name is\", name, \"and my age is\", age, \"years old\")"
      ],
      "metadata": {
        "colab": {
          "base_uri": "https://localhost:8080/"
        },
        "id": "EWIyQWQUA6x_",
        "outputId": "a949cdfe-764d-499f-8b7f-8adebe2e4644"
      },
      "execution_count": 5,
      "outputs": [
        {
          "output_type": "stream",
          "name": "stdout",
          "text": [
            "Enter your name : Arsh\n",
            "Enter your Age : 23\n",
            "my name is Arsh and my age is 23 years old\n"
          ]
        }
      ]
    },
    {
      "cell_type": "markdown",
      "source": [
        "Python strings are Immutable....."
      ],
      "metadata": {
        "id": "n6IwJbd5OLeA"
      }
    },
    {
      "cell_type": "code",
      "source": [
        "print(f\"my name is {name} and I am {age} years old\")"
      ],
      "metadata": {
        "colab": {
          "base_uri": "https://localhost:8080/"
        },
        "id": "Xl3x5GhBBbx3",
        "outputId": "12e41504-9424-4be8-ccf7-78bde554dab7"
      },
      "execution_count": 4,
      "outputs": [
        {
          "output_type": "stream",
          "name": "stdout",
          "text": [
            "my name is Arsh and my age is 23\n"
          ]
        }
      ]
    },
    {
      "cell_type": "code",
      "source": [
        "print('My name is {} and I am {}'.format(name,age))"
      ],
      "metadata": {
        "colab": {
          "base_uri": "https://localhost:8080/"
        },
        "id": "iw60dhxdB8c-",
        "outputId": "c91f7a9c-d677-43d0-a7f5-4248708eea35"
      },
      "execution_count": 6,
      "outputs": [
        {
          "output_type": "stream",
          "name": "stdout",
          "text": [
            "My name is Arsh and I am 23\n"
          ]
        }
      ]
    },
    {
      "cell_type": "code",
      "source": [
        "print('My name is {n} and I am {a}'.format(n=name,a=age))"
      ],
      "metadata": {
        "colab": {
          "base_uri": "https://localhost:8080/"
        },
        "id": "izGgNDETCdNa",
        "outputId": "215fc97c-d0a2-43a3-9785-c7b7a981c30d"
      },
      "execution_count": 7,
      "outputs": [
        {
          "output_type": "stream",
          "name": "stdout",
          "text": [
            "My name is Arsh and I am 23\n"
          ]
        }
      ]
    },
    {
      "cell_type": "markdown",
      "source": [
        "**Formatting and Precision**"
      ],
      "metadata": {
        "id": "-p4p6IOnCzhy"
      }
    },
    {
      "cell_type": "code",
      "source": [
        "cost = 100\n",
        "profit = 20\n",
        "print('The total price is {} and the cost is {} and the profit is {}'.format(cost+profit, cost, profit))"
      ],
      "metadata": {
        "colab": {
          "base_uri": "https://localhost:8080/"
        },
        "id": "zG0eHMWfC2KS",
        "outputId": "17e4b8a6-ea70-48f8-86dc-bbf33525270a"
      },
      "execution_count": 8,
      "outputs": [
        {
          "output_type": "stream",
          "name": "stdout",
          "text": [
            "The total price is 120 and the cost is 100 and the profit is 20\n"
          ]
        }
      ]
    },
    {
      "cell_type": "code",
      "source": [
        "# STRING FLAGS\n",
        "\n",
        "#   Precision to rounding off...\n",
        "#   colon.nf, n belongs to Z\n",
        "a = 1.99999999\n",
        "'{:.2f}'.format(a)"
      ],
      "metadata": {
        "colab": {
          "base_uri": "https://localhost:8080/",
          "height": 35
        },
        "id": "TbtpFrC1DoxU",
        "outputId": "ebab426b-8bff-4d65-e1db-dc13fe973be0"
      },
      "execution_count": 10,
      "outputs": [
        {
          "output_type": "execute_result",
          "data": {
            "text/plain": [
              "'2.00'"
            ],
            "application/vnd.google.colaboratory.intrinsic+json": {
              "type": "string"
            }
          },
          "metadata": {},
          "execution_count": 10
        }
      ]
    },
    {
      "cell_type": "markdown",
      "source": [
        "Formatting"
      ],
      "metadata": {
        "id": "uEG9PDrzEqRO"
      }
    },
    {
      "cell_type": "code",
      "source": [
        "a = 1e10\n",
        "a"
      ],
      "metadata": {
        "colab": {
          "base_uri": "https://localhost:8080/"
        },
        "id": "x5wAvAW3EH8g",
        "outputId": "b76150f4-9a23-4bb5-80ec-142cadd34303"
      },
      "execution_count": 11,
      "outputs": [
        {
          "output_type": "execute_result",
          "data": {
            "text/plain": [
              "10000000000.0"
            ]
          },
          "metadata": {},
          "execution_count": 11
        }
      ]
    },
    {
      "cell_type": "code",
      "source": [
        "#Adding Commas to a\n",
        "# colon.,\n",
        "b = '{:,}'.format(a)"
      ],
      "metadata": {
        "id": "-Turuxj8EJmX"
      },
      "execution_count": 14,
      "outputs": []
    },
    {
      "cell_type": "code",
      "source": [
        "a"
      ],
      "metadata": {
        "colab": {
          "base_uri": "https://localhost:8080/"
        },
        "id": "DzffrMkUEYXx",
        "outputId": "7574a457-6ffe-46d9-ce15-40cf37daabfa"
      },
      "execution_count": 13,
      "outputs": [
        {
          "output_type": "execute_result",
          "data": {
            "text/plain": [
              "10000000000.0"
            ]
          },
          "metadata": {},
          "execution_count": 13
        }
      ]
    },
    {
      "cell_type": "code",
      "source": [
        "b"
      ],
      "metadata": {
        "colab": {
          "base_uri": "https://localhost:8080/",
          "height": 35
        },
        "id": "xud0LZp1ENvm",
        "outputId": "506c215f-cee0-4458-d26e-24fb870d5193"
      },
      "execution_count": 15,
      "outputs": [
        {
          "output_type": "execute_result",
          "data": {
            "text/plain": [
              "'10,000,000,000.0'"
            ],
            "application/vnd.google.colaboratory.intrinsic+json": {
              "type": "string"
            }
          },
          "metadata": {},
          "execution_count": 15
        }
      ]
    },
    {
      "cell_type": "code",
      "source": [
        "list1 = [1,2,3,4,5]\n",
        "'{}'.format(max(list1))"
      ],
      "metadata": {
        "colab": {
          "base_uri": "https://localhost:8080/",
          "height": 35
        },
        "id": "iCkozV9VEdRu",
        "outputId": "1c410aeb-cde2-4493-d3e8-70ffc052c3a1"
      },
      "execution_count": 17,
      "outputs": [
        {
          "output_type": "execute_result",
          "data": {
            "text/plain": [
              "'5'"
            ],
            "application/vnd.google.colaboratory.intrinsic+json": {
              "type": "string"
            }
          },
          "metadata": {},
          "execution_count": 17
        }
      ]
    },
    {
      "cell_type": "markdown",
      "source": [
        "Write a program that takes input in Celsius an converts it into Farhenite, upto 2 decimal places using string.format()"
      ],
      "metadata": {
        "id": "IlT2lcRRFORD"
      }
    },
    {
      "cell_type": "code",
      "source": [
        "celsius = float(input(\"Enter the Temperature : \"))\n",
        "\n",
        "result = 'Temperature in Farenhite is {}'.format(celsius*(9/5)+32)\n",
        "print(result)"
      ],
      "metadata": {
        "colab": {
          "base_uri": "https://localhost:8080/"
        },
        "id": "o6CNhtpoE0Xo",
        "outputId": "14b1eb1d-0e91-4739-b8c0-2acb797ceea3"
      },
      "execution_count": 20,
      "outputs": [
        {
          "output_type": "stream",
          "name": "stdout",
          "text": [
            "Enter the Temperature : 100\n",
            "Temperature in Farenhite is 212.0\n"
          ]
        }
      ]
    },
    {
      "cell_type": "markdown",
      "source": [
        "Powers from 1 to 10 using format\n",
        "function.\n",
        "\n",
        "1^2, 2^2, ..... 10^2"
      ],
      "metadata": {
        "id": "K_O-zBmPGD_u"
      }
    },
    {
      "cell_type": "code",
      "source": [
        "# SPACING using Format Function.\n",
        "for i in range (1,11):\n",
        "  squared = i**2\n",
        "  # colon lessthan spacing{number,n}\n",
        "  print('{:<2} ---> {:<10}'.format(i, squared))"
      ],
      "metadata": {
        "colab": {
          "base_uri": "https://localhost:8080/"
        },
        "id": "qsXBotJJGHHy",
        "outputId": "3e06c5c0-fb28-41cb-f173-0b103424202a"
      },
      "execution_count": 27,
      "outputs": [
        {
          "output_type": "stream",
          "name": "stdout",
          "text": [
            "1  ---> 1         \n",
            "2  ---> 4         \n",
            "3  ---> 9         \n",
            "4  ---> 16        \n",
            "5  ---> 25        \n",
            "6  ---> 36        \n",
            "7  ---> 49        \n",
            "8  ---> 64        \n",
            "9  ---> 81        \n",
            "10 ---> 100       \n"
          ]
        }
      ]
    },
    {
      "cell_type": "code",
      "source": [
        "a=12323.232332\n",
        "f'{a:.3f}'"
      ],
      "metadata": {
        "colab": {
          "base_uri": "https://localhost:8080/",
          "height": 35
        },
        "id": "d2NcAHt0I_YE",
        "outputId": "91f62109-316f-4cea-a186-c9fd9396dbd9"
      },
      "execution_count": 31,
      "outputs": [
        {
          "output_type": "execute_result",
          "data": {
            "text/plain": [
              "'12323.232'"
            ],
            "application/vnd.google.colaboratory.intrinsic+json": {
              "type": "string"
            }
          },
          "metadata": {},
          "execution_count": 31
        }
      ]
    },
    {
      "cell_type": "code",
      "source": [
        "b = 1e10\n",
        "b"
      ],
      "metadata": {
        "colab": {
          "base_uri": "https://localhost:8080/"
        },
        "id": "aKW90m1_JJZ7",
        "outputId": "d7ffa71f-c80b-404f-f02d-7ca92e659a15"
      },
      "execution_count": 33,
      "outputs": [
        {
          "output_type": "execute_result",
          "data": {
            "text/plain": [
              "10000000000.0"
            ]
          },
          "metadata": {},
          "execution_count": 33
        }
      ]
    },
    {
      "cell_type": "code",
      "source": [
        "f'{b:,}'"
      ],
      "metadata": {
        "colab": {
          "base_uri": "https://localhost:8080/",
          "height": 35
        },
        "id": "s4zloF27JcGc",
        "outputId": "e0490f1c-fcd0-4496-eb08-dfa04eb31ace"
      },
      "execution_count": 35,
      "outputs": [
        {
          "output_type": "execute_result",
          "data": {
            "text/plain": [
              "'10,000,000,000.0'"
            ],
            "application/vnd.google.colaboratory.intrinsic+json": {
              "type": "string"
            }
          },
          "metadata": {},
          "execution_count": 35
        }
      ]
    },
    {
      "cell_type": "markdown",
      "source": [
        "# **LIST**"
      ],
      "metadata": {
        "id": "BLEmRjXRKJ_I"
      }
    },
    {
      "cell_type": "code",
      "source": [
        "a = [1,2,2,3324234,3.234]"
      ],
      "metadata": {
        "id": "PdxqhbEPKPSU"
      },
      "execution_count": 36,
      "outputs": []
    },
    {
      "cell_type": "code",
      "source": [
        "type(a)"
      ],
      "metadata": {
        "colab": {
          "base_uri": "https://localhost:8080/"
        },
        "id": "W2X-mmcbKqJ0",
        "outputId": "7ed15495-651c-4daf-9956-d0d17f48e395"
      },
      "execution_count": 37,
      "outputs": [
        {
          "output_type": "execute_result",
          "data": {
            "text/plain": [
              "list"
            ]
          },
          "metadata": {},
          "execution_count": 37
        }
      ]
    },
    {
      "cell_type": "code",
      "source": [
        "b = 12,21,2,12"
      ],
      "metadata": {
        "id": "UoLxwGDLKr_e"
      },
      "execution_count": 38,
      "outputs": []
    },
    {
      "cell_type": "code",
      "source": [
        "type(b)"
      ],
      "metadata": {
        "colab": {
          "base_uri": "https://localhost:8080/"
        },
        "id": "iUINP6QLKuaz",
        "outputId": "8aa5c89f-0eaf-4d1e-8754-911ef45b1145"
      },
      "execution_count": 39,
      "outputs": [
        {
          "output_type": "execute_result",
          "data": {
            "text/plain": [
              "tuple"
            ]
          },
          "metadata": {},
          "execution_count": 39
        }
      ]
    },
    {
      "cell_type": "code",
      "source": [
        "a"
      ],
      "metadata": {
        "colab": {
          "base_uri": "https://localhost:8080/"
        },
        "id": "lXsbEkbYKvRs",
        "outputId": "63ae4bc3-2838-4976-e98c-01e1fb8010dd"
      },
      "execution_count": 40,
      "outputs": [
        {
          "output_type": "execute_result",
          "data": {
            "text/plain": [
              "[1, 2, 2, 3324234, 3.234]"
            ]
          },
          "metadata": {},
          "execution_count": 40
        }
      ]
    },
    {
      "cell_type": "code",
      "source": [
        "# Python list is versatile and you can store any data type within it.\n",
        "# Lists are Mutuable -> you can modify them later.\n",
        "# List are called as an Iterble Object -> each elements are accessed one by one\n",
        "        # tuple and strings are iterable objects too...."
      ],
      "metadata": {
        "id": "YhHNeMP7K71C"
      },
      "execution_count": 44,
      "outputs": []
    },
    {
      "cell_type": "code",
      "source": [
        "mixed = [1,23,34.232,\"asxdf\", True, [123,34234,\" afd\"]]"
      ],
      "metadata": {
        "id": "rBRV6ndfLKCD"
      },
      "execution_count": 45,
      "outputs": []
    },
    {
      "cell_type": "code",
      "source": [
        "mixed"
      ],
      "metadata": {
        "colab": {
          "base_uri": "https://localhost:8080/"
        },
        "id": "dWf9jwTJLUlr",
        "outputId": "0fb3de9f-4e5e-4937-cdc5-f6b02755cea1"
      },
      "execution_count": 46,
      "outputs": [
        {
          "output_type": "execute_result",
          "data": {
            "text/plain": [
              "[1, 23, 34.232, 'asxdf', True, [123, 34234, ' afd']]"
            ]
          },
          "metadata": {},
          "execution_count": 46
        }
      ]
    },
    {
      "cell_type": "code",
      "source": [
        "list = [1,2,3,4]"
      ],
      "metadata": {
        "id": "bB-fVPYVLV6l"
      },
      "execution_count": 47,
      "outputs": []
    },
    {
      "cell_type": "code",
      "source": [
        "list.append(10) # add an Item at the END"
      ],
      "metadata": {
        "id": "P_FE_N7nLmnS"
      },
      "execution_count": 48,
      "outputs": []
    },
    {
      "cell_type": "code",
      "source": [
        "list"
      ],
      "metadata": {
        "colab": {
          "base_uri": "https://localhost:8080/"
        },
        "id": "7KLL7AgCLq0q",
        "outputId": "6ae58f7e-ff11-47ac-bf45-cf2cddcc5ee8"
      },
      "execution_count": 49,
      "outputs": [
        {
          "output_type": "execute_result",
          "data": {
            "text/plain": [
              "[1, 2, 3, 4, 10]"
            ]
          },
          "metadata": {},
          "execution_count": 49
        }
      ]
    },
    {
      "cell_type": "code",
      "source": [
        "# Positive Indexing\n",
        "x=list[0]\n",
        "list[1]\n",
        "\n",
        "# Negative Indexing\n",
        "list[-1]"
      ],
      "metadata": {
        "colab": {
          "base_uri": "https://localhost:8080/"
        },
        "id": "96-vbxPHLtM4",
        "outputId": "460cd02b-7b91-4a43-adab-3a505bf8d164"
      },
      "execution_count": 54,
      "outputs": [
        {
          "output_type": "execute_result",
          "data": {
            "text/plain": [
              "10"
            ]
          },
          "metadata": {},
          "execution_count": 54
        }
      ]
    },
    {
      "cell_type": "code",
      "source": [
        "list[0:2] #Slicing"
      ],
      "metadata": {
        "colab": {
          "base_uri": "https://localhost:8080/"
        },
        "id": "cxZiWsoxLyk5",
        "outputId": "c0ee4c33-ed84-4e4c-9949-c25ad8cefd40"
      },
      "execution_count": 56,
      "outputs": [
        {
          "output_type": "execute_result",
          "data": {
            "text/plain": [
              "[1, 2]"
            ]
          },
          "metadata": {},
          "execution_count": 56
        }
      ]
    },
    {
      "cell_type": "code",
      "source": [
        "list[:2]"
      ],
      "metadata": {
        "colab": {
          "base_uri": "https://localhost:8080/"
        },
        "id": "Bpr0R_SXMJPS",
        "outputId": "23b00179-a8ed-4a87-b430-cbb2167d127a"
      },
      "execution_count": 57,
      "outputs": [
        {
          "output_type": "execute_result",
          "data": {
            "text/plain": [
              "[1, 2]"
            ]
          },
          "metadata": {},
          "execution_count": 57
        }
      ]
    },
    {
      "cell_type": "code",
      "source": [
        "list[1::2]"
      ],
      "metadata": {
        "colab": {
          "base_uri": "https://localhost:8080/"
        },
        "id": "Qxhe7hbKMT3r",
        "outputId": "1f1cabe0-c507-499e-93db-01e9c7ab1e3a"
      },
      "execution_count": 58,
      "outputs": [
        {
          "output_type": "execute_result",
          "data": {
            "text/plain": [
              "[2, 4]"
            ]
          },
          "metadata": {},
          "execution_count": 58
        }
      ]
    },
    {
      "cell_type": "code",
      "source": [
        "# * => Repetition\n",
        "list*2"
      ],
      "metadata": {
        "colab": {
          "base_uri": "https://localhost:8080/"
        },
        "id": "7UCgdXSbMXMp",
        "outputId": "e94c7565-f55b-48b7-f09f-afea5d2a677b"
      },
      "execution_count": 59,
      "outputs": [
        {
          "output_type": "execute_result",
          "data": {
            "text/plain": [
              "[1, 2, 3, 4, 10, 1, 2, 3, 4, 10]"
            ]
          },
          "metadata": {},
          "execution_count": 59
        }
      ]
    },
    {
      "cell_type": "code",
      "source": [
        "l1 = [3,43,45]\n",
        "l2 = [234,34,324]\n",
        "l3 = l1 + l2  #Concat both the Lists"
      ],
      "metadata": {
        "id": "7YmdwSnCMhyY"
      },
      "execution_count": 60,
      "outputs": []
    },
    {
      "cell_type": "code",
      "source": [
        "l3"
      ],
      "metadata": {
        "colab": {
          "base_uri": "https://localhost:8080/"
        },
        "id": "H1CDHBp0MtIB",
        "outputId": "1872174d-7c36-42f6-ccc5-18fdd1653032"
      },
      "execution_count": 61,
      "outputs": [
        {
          "output_type": "execute_result",
          "data": {
            "text/plain": [
              "[3, 43, 45, 234, 34, 324]"
            ]
          },
          "metadata": {},
          "execution_count": 61
        }
      ]
    },
    {
      "cell_type": "markdown",
      "source": [
        "**Membership Keywords**"
      ],
      "metadata": {
        "id": "3Cwh96jGM0zC"
      }
    },
    {
      "cell_type": "code",
      "source": [
        "# In and not in Memberships\n",
        "\n",
        "234 in l2"
      ],
      "metadata": {
        "colab": {
          "base_uri": "https://localhost:8080/"
        },
        "id": "UIiGfjzSMu2J",
        "outputId": "a4fcdbd2-f76e-4188-de0d-5a93b2506e10"
      },
      "execution_count": 62,
      "outputs": [
        {
          "output_type": "execute_result",
          "data": {
            "text/plain": [
              "True"
            ]
          },
          "metadata": {},
          "execution_count": 62
        }
      ]
    },
    {
      "cell_type": "code",
      "source": [
        "122 not in l2"
      ],
      "metadata": {
        "colab": {
          "base_uri": "https://localhost:8080/"
        },
        "id": "4cyA2cPMM-hi",
        "outputId": "2a097bc1-a0b6-4ac0-e923-f29214c45e3e"
      },
      "execution_count": 63,
      "outputs": [
        {
          "output_type": "execute_result",
          "data": {
            "text/plain": [
              "True"
            ]
          },
          "metadata": {},
          "execution_count": 63
        }
      ]
    },
    {
      "cell_type": "code",
      "source": [
        "len(l1)"
      ],
      "metadata": {
        "colab": {
          "base_uri": "https://localhost:8080/"
        },
        "id": "CtXm_mNfNAmx",
        "outputId": "4365654a-01de-42ea-a5a5-6b88cec5ef0d"
      },
      "execution_count": 64,
      "outputs": [
        {
          "output_type": "execute_result",
          "data": {
            "text/plain": [
              "3"
            ]
          },
          "metadata": {},
          "execution_count": 64
        }
      ]
    },
    {
      "cell_type": "code",
      "source": [
        "len(l3)"
      ],
      "metadata": {
        "colab": {
          "base_uri": "https://localhost:8080/"
        },
        "id": "cbomBHnuNDpq",
        "outputId": "b3cb1c95-f3fe-4249-97cd-85c0a37cd569"
      },
      "execution_count": 65,
      "outputs": [
        {
          "output_type": "execute_result",
          "data": {
            "text/plain": [
              "6"
            ]
          },
          "metadata": {},
          "execution_count": 65
        }
      ]
    },
    {
      "cell_type": "code",
      "source": [
        "for i in l3:\n",
        "  print(i)"
      ],
      "metadata": {
        "colab": {
          "base_uri": "https://localhost:8080/"
        },
        "id": "wzX83AUYNE4Z",
        "outputId": "edbeed32-ace0-449b-c6c7-42afa4366ca2"
      },
      "execution_count": 66,
      "outputs": [
        {
          "output_type": "stream",
          "name": "stdout",
          "text": [
            "3\n",
            "43\n",
            "45\n",
            "234\n",
            "34\n",
            "324\n"
          ]
        }
      ]
    },
    {
      "cell_type": "code",
      "source": [
        "print(l3[2])"
      ],
      "metadata": {
        "colab": {
          "base_uri": "https://localhost:8080/"
        },
        "id": "uEVCAkQ9NZcB",
        "outputId": "6ba007e0-1344-4e3e-9520-d5a144b582a8"
      },
      "execution_count": 67,
      "outputs": [
        {
          "output_type": "stream",
          "name": "stdout",
          "text": [
            "45\n"
          ]
        }
      ]
    },
    {
      "cell_type": "code",
      "source": [
        "for i in range (len(l3)):\n",
        "  print (l3[i])"
      ],
      "metadata": {
        "colab": {
          "base_uri": "https://localhost:8080/"
        },
        "id": "CaLO6r8bNgI0",
        "outputId": "89f9621d-7f3c-4a63-9ac9-ccde2ceea0c5"
      },
      "execution_count": 69,
      "outputs": [
        {
          "output_type": "stream",
          "name": "stdout",
          "text": [
            "3\n",
            "43\n",
            "45\n",
            "234\n",
            "34\n",
            "324\n"
          ]
        }
      ]
    },
    {
      "cell_type": "code",
      "source": [
        "a = 'Arsh'\n",
        "a[2] = 'b'\n",
        "# Strings are immutable"
      ],
      "metadata": {
        "colab": {
          "base_uri": "https://localhost:8080/",
          "height": 193
        },
        "id": "vV8DnvznNm9w",
        "outputId": "ad75a2a1-201d-474b-be77-29c08ece94e4"
      },
      "execution_count": 71,
      "outputs": [
        {
          "output_type": "error",
          "ename": "TypeError",
          "evalue": "ignored",
          "traceback": [
            "\u001b[0;31m---------------------------------------------------------------------------\u001b[0m",
            "\u001b[0;31mTypeError\u001b[0m                                 Traceback (most recent call last)",
            "\u001b[0;32m<ipython-input-71-444730043611>\u001b[0m in \u001b[0;36m<cell line: 2>\u001b[0;34m()\u001b[0m\n\u001b[1;32m      1\u001b[0m \u001b[0ma\u001b[0m \u001b[0;34m=\u001b[0m \u001b[0;34m'Arsh'\u001b[0m\u001b[0;34m\u001b[0m\u001b[0;34m\u001b[0m\u001b[0m\n\u001b[0;32m----> 2\u001b[0;31m \u001b[0ma\u001b[0m\u001b[0;34m[\u001b[0m\u001b[0;36m2\u001b[0m\u001b[0;34m]\u001b[0m \u001b[0;34m=\u001b[0m \u001b[0;34m'b'\u001b[0m\u001b[0;34m\u001b[0m\u001b[0;34m\u001b[0m\u001b[0m\n\u001b[0m",
            "\u001b[0;31mTypeError\u001b[0m: 'str' object does not support item assignment"
          ]
        }
      ]
    },
    {
      "cell_type": "code",
      "source": [
        "l2[0] = 2\n",
        "l2\n",
        "# List are Mutable."
      ],
      "metadata": {
        "colab": {
          "base_uri": "https://localhost:8080/"
        },
        "id": "rc22ihVTOSlA",
        "outputId": "dfb00f6f-7c13-489e-dea3-dbb2a2a7279b"
      },
      "execution_count": 72,
      "outputs": [
        {
          "output_type": "execute_result",
          "data": {
            "text/plain": [
              "[2, 34, 324]"
            ]
          },
          "metadata": {},
          "execution_count": 72
        }
      ]
    },
    {
      "cell_type": "code",
      "source": [
        "list1 = [23,1,0,12,45,-1,46]\n",
        "\n",
        "for i in range (len(list1)):\n",
        "  list1[i]**=2\n",
        "\n",
        "list1"
      ],
      "metadata": {
        "colab": {
          "base_uri": "https://localhost:8080/"
        },
        "id": "aL-DzZuqOafn",
        "outputId": "0b4f43fe-a29a-4808-f5af-802bbf1a5113"
      },
      "execution_count": 80,
      "outputs": [
        {
          "output_type": "execute_result",
          "data": {
            "text/plain": [
              "[529, 1, 0, 144, 2025, 1, 2116]"
            ]
          },
          "metadata": {},
          "execution_count": 80
        }
      ]
    },
    {
      "cell_type": "code",
      "source": [
        "squared = []\n",
        "for i in list1:\n",
        "  squared.append(i**2)\n",
        "squared"
      ],
      "metadata": {
        "colab": {
          "base_uri": "https://localhost:8080/"
        },
        "id": "YQFBLRNvQ6l_",
        "outputId": "2745b718-3c34-4386-e3fb-24ea3cef83e3"
      },
      "execution_count": 82,
      "outputs": [
        {
          "output_type": "execute_result",
          "data": {
            "text/plain": [
              "[279841, 1, 0, 20736, 4100625, 1, 4477456]"
            ]
          },
          "metadata": {},
          "execution_count": 82
        }
      ]
    },
    {
      "cell_type": "code",
      "source": [
        "# extend append function\n",
        "\n",
        "list1= [1,2,3,4]\n",
        "list2= [5,6,7,8]\n",
        "list1.append(list2)   # List within a List via append\n",
        "list1"
      ],
      "metadata": {
        "colab": {
          "base_uri": "https://localhost:8080/"
        },
        "id": "-g9VYR_6RHXm",
        "outputId": "a6f0e4d9-1899-46d9-e8c9-e15dda6332de"
      },
      "execution_count": 84,
      "outputs": [
        {
          "output_type": "execute_result",
          "data": {
            "text/plain": [
              "[1, 2, 3, 4, [5, 6, 7, 8]]"
            ]
          },
          "metadata": {},
          "execution_count": 84
        }
      ]
    },
    {
      "cell_type": "code",
      "source": [
        "list1= [1,2,3,4]\n",
        "list2= [5,6,7,8]\n",
        "list1.extend(list2)   # CONCAT lists via extend\n",
        "list1"
      ],
      "metadata": {
        "colab": {
          "base_uri": "https://localhost:8080/"
        },
        "id": "35Au0tmbRqfW",
        "outputId": "3ce1ca85-da8d-4026-9c4a-435f5ce95acc"
      },
      "execution_count": 86,
      "outputs": [
        {
          "output_type": "execute_result",
          "data": {
            "text/plain": [
              "[1, 2, 3, 4, 5, 6, 7, 8]"
            ]
          },
          "metadata": {},
          "execution_count": 86
        }
      ]
    },
    {
      "cell_type": "code",
      "source": [
        "list1.count(2)  # Count out the values...."
      ],
      "metadata": {
        "colab": {
          "base_uri": "https://localhost:8080/"
        },
        "id": "bGGQZtt2SGLW",
        "outputId": "c86f45f2-8691-45bd-fef2-d26e761ac70c"
      },
      "execution_count": 87,
      "outputs": [
        {
          "output_type": "execute_result",
          "data": {
            "text/plain": [
              "1"
            ]
          },
          "metadata": {},
          "execution_count": 87
        }
      ]
    },
    {
      "cell_type": "code",
      "source": [
        "l4 = l1 + l1\n",
        "l4"
      ],
      "metadata": {
        "colab": {
          "base_uri": "https://localhost:8080/"
        },
        "id": "_dArO-oxSP-c",
        "outputId": "8a085bc0-a499-43f3-8f59-3fcfe75239d4"
      },
      "execution_count": 90,
      "outputs": [
        {
          "output_type": "execute_result",
          "data": {
            "text/plain": [
              "[3, 43, 45, 3, 43, 45]"
            ]
          },
          "metadata": {},
          "execution_count": 90
        }
      ]
    },
    {
      "cell_type": "code",
      "source": [
        "l4.insert(0,34)  #   list.insert(index, value)\n",
        "l4"
      ],
      "metadata": {
        "id": "cVgcpjURSY7d"
      },
      "execution_count": 91,
      "outputs": []
    },
    {
      "cell_type": "code",
      "source": [
        "# Remove a value from list.\n",
        "\n",
        "# Remove fxn if you know the value first occurence.\n",
        "l4.remove(43)\n",
        "l4"
      ],
      "metadata": {
        "id": "E1mxTD6ESok9"
      },
      "execution_count": 93,
      "outputs": []
    },
    {
      "cell_type": "code",
      "source": [
        "# if you know the index from which you want to delete the value\n",
        "l4.pop(4)   # list.pop(index)"
      ],
      "metadata": {
        "colab": {
          "base_uri": "https://localhost:8080/"
        },
        "id": "URR2Hg2OS3sV",
        "outputId": "49c97b3e-00f4-473a-f0a9-f53e24403b03"
      },
      "execution_count": 97,
      "outputs": [
        {
          "output_type": "execute_result",
          "data": {
            "text/plain": [
              "45"
            ]
          },
          "metadata": {},
          "execution_count": 97
        }
      ]
    },
    {
      "cell_type": "code",
      "source": [
        "l4.pop()  # automatically remove the last index value\n",
        "l4"
      ],
      "metadata": {
        "colab": {
          "base_uri": "https://localhost:8080/"
        },
        "id": "yJdfhboATFPt",
        "outputId": "dbf3d176-85a0-47d7-e7d4-47a9114a385c"
      },
      "execution_count": 100,
      "outputs": [
        {
          "output_type": "execute_result",
          "data": {
            "text/plain": [
              "[34, 3]"
            ]
          },
          "metadata": {},
          "execution_count": 100
        }
      ]
    },
    {
      "cell_type": "code",
      "source": [
        "# delete keyword\n",
        "# del list[index]\n",
        "\n",
        "del l4[0]  # directly remove the element from list"
      ],
      "metadata": {
        "id": "PMXgI2eVTO6t"
      },
      "execution_count": 101,
      "outputs": []
    },
    {
      "cell_type": "code",
      "source": [
        "l4"
      ],
      "metadata": {
        "colab": {
          "base_uri": "https://localhost:8080/"
        },
        "id": "bv5joG5NTQ6M",
        "outputId": "09281b52-0607-4ff7-8731-91c16f66d99b"
      },
      "execution_count": 102,
      "outputs": [
        {
          "output_type": "execute_result",
          "data": {
            "text/plain": [
              "[3]"
            ]
          },
          "metadata": {},
          "execution_count": 102
        }
      ]
    },
    {
      "cell_type": "code",
      "source": [
        "# Reversing a particular string\n",
        "\n",
        "l1.reverse()"
      ],
      "metadata": {
        "id": "jeHdUD8JTZbu"
      },
      "execution_count": 103,
      "outputs": []
    },
    {
      "cell_type": "code",
      "source": [
        "l1"
      ],
      "metadata": {
        "colab": {
          "base_uri": "https://localhost:8080/"
        },
        "id": "JrBFFN3bUQ4W",
        "outputId": "6e5a9fcd-8a6e-4954-86ef-8facd31a5018"
      },
      "execution_count": 104,
      "outputs": [
        {
          "output_type": "execute_result",
          "data": {
            "text/plain": [
              "[45, 43, 3]"
            ]
          },
          "metadata": {},
          "execution_count": 104
        }
      ]
    },
    {
      "cell_type": "code",
      "source": [
        "sorted(l1, reverse = True)   # Descending order"
      ],
      "metadata": {
        "colab": {
          "base_uri": "https://localhost:8080/"
        },
        "id": "jQ1sufgvURrH",
        "outputId": "b05f531a-cc8c-48f4-af06-5c1207deed22"
      },
      "execution_count": 107,
      "outputs": [
        {
          "output_type": "execute_result",
          "data": {
            "text/plain": [
              "[45, 43, 3]"
            ]
          },
          "metadata": {},
          "execution_count": 107
        }
      ]
    },
    {
      "cell_type": "code",
      "source": [
        "sorted(l1)  # Ascending order"
      ],
      "metadata": {
        "colab": {
          "base_uri": "https://localhost:8080/"
        },
        "id": "lapLuCE4UgjM",
        "outputId": "3c7a75d4-b5f1-4043-8e98-0d7db6a17396"
      },
      "execution_count": 108,
      "outputs": [
        {
          "output_type": "execute_result",
          "data": {
            "text/plain": [
              "[3, 43, 45]"
            ]
          },
          "metadata": {},
          "execution_count": 108
        }
      ]
    },
    {
      "cell_type": "code",
      "source": [
        "l1.sort()  # it sorts and update the list too....."
      ],
      "metadata": {
        "id": "LJHUhbyoUo6d"
      },
      "execution_count": 109,
      "outputs": []
    },
    {
      "cell_type": "code",
      "source": [
        "l1"
      ],
      "metadata": {
        "colab": {
          "base_uri": "https://localhost:8080/"
        },
        "id": "28PxjNoUUtXG",
        "outputId": "3101bf2e-b60b-4df4-d755-416473265dda"
      },
      "execution_count": 110,
      "outputs": [
        {
          "output_type": "execute_result",
          "data": {
            "text/plain": [
              "[3, 43, 45]"
            ]
          },
          "metadata": {},
          "execution_count": 110
        }
      ]
    },
    {
      "cell_type": "code",
      "source": [
        "l1.sort(reverse = True)  # Reverse"
      ],
      "metadata": {
        "id": "8ZlQQJipUuJb"
      },
      "execution_count": 111,
      "outputs": []
    },
    {
      "cell_type": "code",
      "source": [
        "l1"
      ],
      "metadata": {
        "colab": {
          "base_uri": "https://localhost:8080/"
        },
        "id": "f20oxbkfU3_7",
        "outputId": "712715ca-2fae-4ab5-d236-ee39d499c55f"
      },
      "execution_count": 112,
      "outputs": [
        {
          "output_type": "execute_result",
          "data": {
            "text/plain": [
              "[45, 43, 3]"
            ]
          },
          "metadata": {},
          "execution_count": 112
        }
      ]
    },
    {
      "cell_type": "code",
      "source": [
        "l1.copy()  # Copy the list"
      ],
      "metadata": {
        "colab": {
          "base_uri": "https://localhost:8080/"
        },
        "id": "qEW2ynoLVR90",
        "outputId": "8bb340b1-2fef-43f3-9f97-3da6c7cea365"
      },
      "execution_count": 115,
      "outputs": [
        {
          "output_type": "execute_result",
          "data": {
            "text/plain": [
              "[45, 43, 3]"
            ]
          },
          "metadata": {},
          "execution_count": 115
        }
      ]
    },
    {
      "cell_type": "code",
      "source": [
        "# To find duplicates in a list\n",
        "duplicates = []\n",
        "\n",
        "for i in l1:\n",
        "  if l3.count(i) >=1 and i not in duplicates:\n",
        "    duplicates.append(i)"
      ],
      "metadata": {
        "id": "wzzu5kUUVXE9"
      },
      "execution_count": 119,
      "outputs": []
    },
    {
      "cell_type": "code",
      "source": [
        "# COLLECTIONS\n",
        "\n",
        "from collections import Counter\n",
        "Counter(l3)\n",
        "# gives count of values in a dictionary"
      ],
      "metadata": {
        "colab": {
          "base_uri": "https://localhost:8080/"
        },
        "id": "jIRt3Y58Vr8r",
        "outputId": "41bd7917-5ce7-4314-a0c6-0f6d82760846"
      },
      "execution_count": 121,
      "outputs": [
        {
          "output_type": "execute_result",
          "data": {
            "text/plain": [
              "Counter({3: 1, 43: 1, 45: 1, 234: 1, 34: 1, 324: 1})"
            ]
          },
          "metadata": {},
          "execution_count": 121
        }
      ]
    },
    {
      "cell_type": "code",
      "source": [
        "# Range of Numbers\n",
        "\n",
        "d = [1,3,6,7,8,9,10]\n",
        "full_list = list(range(1,11))\n",
        "miss_num = []\n",
        "for i in full_list:\n",
        "  if i not in d:\n",
        "    miss_num.append(i)\n",
        "miss_num"
      ],
      "metadata": {
        "id": "TuwSmyS4WBJM"
      },
      "execution_count": null,
      "outputs": []
    },
    {
      "cell_type": "code",
      "source": [
        "# WAP which will find all such numbers which are divisble by 7 but are not a multiple of 5, b/w 202 and 320 (both Included), stored in a list.\n",
        "empty=[]\n",
        "for i in range (201,321):\n",
        "  if i%7==0 and i%5!=0:\n",
        "    empty.append(i)\n",
        "\n",
        "empty\n"
      ],
      "metadata": {
        "colab": {
          "base_uri": "https://localhost:8080/"
        },
        "id": "L_iozyLYXL9M",
        "outputId": "170a59e3-a853-44d9-fede-38ce108ece16"
      },
      "execution_count": 125,
      "outputs": [
        {
          "output_type": "execute_result",
          "data": {
            "text/plain": [
              "[203, 217, 224, 231, 238, 252, 259, 266, 273, 287, 294, 301, 308]"
            ]
          },
          "metadata": {},
          "execution_count": 125
        }
      ]
    },
    {
      "cell_type": "code",
      "source": [],
      "metadata": {
        "id": "4bhaRqJoYPhh"
      },
      "execution_count": null,
      "outputs": []
    },
    {
      "cell_type": "markdown",
      "source": [
        "**NESTED LIST**"
      ],
      "metadata": {
        "id": "UdhCwwHhYbuF"
      }
    },
    {
      "cell_type": "code",
      "source": [
        "l5 = [[1,3], [45.6,34], [34,6,64], [6,7]]\n",
        "l5"
      ],
      "metadata": {
        "colab": {
          "base_uri": "https://localhost:8080/"
        },
        "id": "_xbTnLgJYdlz",
        "outputId": "e35813f3-923f-4997-bf54-8a3f72214764"
      },
      "execution_count": 126,
      "outputs": [
        {
          "output_type": "execute_result",
          "data": {
            "text/plain": [
              "[[1, 3], [45.6, 34], [34, 6, 64], [6, 7]]"
            ]
          },
          "metadata": {},
          "execution_count": 126
        }
      ]
    },
    {
      "cell_type": "code",
      "source": [
        "# Accessing Element in a Nested list\n",
        "l5[1]"
      ],
      "metadata": {
        "colab": {
          "base_uri": "https://localhost:8080/"
        },
        "id": "waAUtdpVYnLY",
        "outputId": "4478cfd1-7a0c-4fed-f5c6-05547e2d9d2f"
      },
      "execution_count": 127,
      "outputs": [
        {
          "output_type": "execute_result",
          "data": {
            "text/plain": [
              "[45.6, 34]"
            ]
          },
          "metadata": {},
          "execution_count": 127
        }
      ]
    },
    {
      "cell_type": "code",
      "source": [
        "l5[1][1]"
      ],
      "metadata": {
        "colab": {
          "base_uri": "https://localhost:8080/"
        },
        "id": "ndNl7VrxYxAI",
        "outputId": "78c5a29d-996a-4307-9514-48e50563c1a1"
      },
      "execution_count": 128,
      "outputs": [
        {
          "output_type": "execute_result",
          "data": {
            "text/plain": [
              "34"
            ]
          },
          "metadata": {},
          "execution_count": 128
        }
      ]
    },
    {
      "cell_type": "code",
      "source": [
        "print(l5)"
      ],
      "metadata": {
        "colab": {
          "base_uri": "https://localhost:8080/"
        },
        "id": "3lo1CbDvYzLa",
        "outputId": "51b5d2af-ad49-4134-fc17-badaeee3e2f3"
      },
      "execution_count": 129,
      "outputs": [
        {
          "output_type": "stream",
          "name": "stdout",
          "text": [
            "[[1, 3], [45.6, 34], [34, 6, 64], [6, 7]]\n"
          ]
        }
      ]
    },
    {
      "cell_type": "code",
      "source": [
        "type(l5)"
      ],
      "metadata": {
        "colab": {
          "base_uri": "https://localhost:8080/"
        },
        "id": "FsiIm3ehZQM8",
        "outputId": "2ad943c4-1468-4284-865e-f88ae6539a90"
      },
      "execution_count": 130,
      "outputs": [
        {
          "output_type": "execute_result",
          "data": {
            "text/plain": [
              "list"
            ]
          },
          "metadata": {},
          "execution_count": 130
        }
      ]
    },
    {
      "cell_type": "code",
      "source": [
        "l7 = [[[1,2],[3,4]]]"
      ],
      "metadata": {
        "id": "lb2x_RWvZULU"
      },
      "execution_count": 131,
      "outputs": []
    },
    {
      "cell_type": "code",
      "source": [
        "l7[0]"
      ],
      "metadata": {
        "colab": {
          "base_uri": "https://localhost:8080/"
        },
        "id": "XXGmd0jGZqJU",
        "outputId": "ec296d85-6d96-48fa-82e5-19320174d0ba"
      },
      "execution_count": 132,
      "outputs": [
        {
          "output_type": "execute_result",
          "data": {
            "text/plain": [
              "[[1, 2], [3, 4]]"
            ]
          },
          "metadata": {},
          "execution_count": 132
        }
      ]
    },
    {
      "cell_type": "code",
      "source": [
        "l7[0][0]"
      ],
      "metadata": {
        "colab": {
          "base_uri": "https://localhost:8080/"
        },
        "id": "KwFjM9aoZsBC",
        "outputId": "f740b15c-3c8b-4b1c-ab05-358383b65089"
      },
      "execution_count": 133,
      "outputs": [
        {
          "output_type": "execute_result",
          "data": {
            "text/plain": [
              "[1, 2]"
            ]
          },
          "metadata": {},
          "execution_count": 133
        }
      ]
    },
    {
      "cell_type": "code",
      "source": [
        "l7[0][0][0]"
      ],
      "metadata": {
        "colab": {
          "base_uri": "https://localhost:8080/"
        },
        "id": "tlliTpKkZtu7",
        "outputId": "4dcf0685-ca81-467f-bde6-3383447864f2"
      },
      "execution_count": 134,
      "outputs": [
        {
          "output_type": "execute_result",
          "data": {
            "text/plain": [
              "1"
            ]
          },
          "metadata": {},
          "execution_count": 134
        }
      ]
    },
    {
      "cell_type": "code",
      "source": [
        "l7[0][1][0]"
      ],
      "metadata": {
        "colab": {
          "base_uri": "https://localhost:8080/"
        },
        "id": "xri2mDLwZwAC",
        "outputId": "f87b62e4-47e9-417d-b988-50bd51bb577d"
      },
      "execution_count": 135,
      "outputs": [
        {
          "output_type": "execute_result",
          "data": {
            "text/plain": [
              "3"
            ]
          },
          "metadata": {},
          "execution_count": 135
        }
      ]
    },
    {
      "cell_type": "code",
      "source": [],
      "metadata": {
        "id": "osMeg5zOZ0zk"
      },
      "execution_count": null,
      "outputs": []
    }
  ]
}