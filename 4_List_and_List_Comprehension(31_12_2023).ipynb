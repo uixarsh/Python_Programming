{
  "nbformat": 4,
  "nbformat_minor": 0,
  "metadata": {
    "colab": {
      "provenance": [],
      "authorship_tag": "ABX9TyM6VCohF0dxps/geJrlp+jL",
      "include_colab_link": true
    },
    "kernelspec": {
      "name": "python3",
      "display_name": "Python 3"
    },
    "language_info": {
      "name": "python"
    }
  },
  "cells": [
    {
      "cell_type": "markdown",
      "metadata": {
        "id": "view-in-github",
        "colab_type": "text"
      },
      "source": [
        "<a href=\"https://colab.research.google.com/github/uixarsh/Python_Programming/blob/master/4_List_and_List_Comprehension(31_12_2023).ipynb\" target=\"_parent\"><img src=\"https://colab.research.google.com/assets/colab-badge.svg\" alt=\"Open In Colab\"/></a>"
      ]
    },
    {
      "cell_type": "markdown",
      "source": [
        "# **LIST**"
      ],
      "metadata": {
        "id": "axavlKA70B8h"
      }
    },
    {
      "cell_type": "code",
      "source": [
        "# Methods used till now ....\n",
        "\n",
        "list.append()\n",
        "list.clear()\n",
        "list.copy()\n",
        "list.count()\n",
        "list.extend()\n",
        "list.index()\n",
        "list.insert()\n",
        "list.pop()\n",
        "list.remove()\n",
        "list.reverse()\n",
        "list.sort()"
      ],
      "metadata": {
        "id": "VDZQRAGA0ER-"
      },
      "execution_count": null,
      "outputs": []
    },
    {
      "cell_type": "code",
      "source": [
        "li = [1,2,3,'a','b','c']"
      ],
      "metadata": {
        "id": "4EbnJNqr0VNn"
      },
      "execution_count": 3,
      "outputs": []
    },
    {
      "cell_type": "code",
      "source": [
        "# Check if a list contains an element.\n",
        "'a' in li"
      ],
      "metadata": {
        "colab": {
          "base_uri": "https://localhost:8080/"
        },
        "id": "JlV4nwdC0bxV",
        "outputId": "7c3df364-ad06-4002-a978-00896b9e4e19"
      },
      "execution_count": 4,
      "outputs": [
        {
          "output_type": "execute_result",
          "data": {
            "text/plain": [
              "True"
            ]
          },
          "metadata": {},
          "execution_count": 4
        }
      ]
    },
    {
      "cell_type": "code",
      "source": [
        "# How to iterate over 2+ lists at same time\n",
        "\n",
        "name = ['show', 'chevy', 'bull']\n",
        "animal = ['cat','lion','kutta']\n",
        "age = [1,2,4]\n"
      ],
      "metadata": {
        "id": "OtDRlNvg0dRr"
      },
      "execution_count": 8,
      "outputs": []
    },
    {
      "cell_type": "code",
      "source": [
        "# use zip function and it gives you a Memory address back...\n",
        "zip(name,animal,age)"
      ],
      "metadata": {
        "colab": {
          "base_uri": "https://localhost:8080/"
        },
        "id": "I2yb7PJ50__P",
        "outputId": "dd6814bb-b14c-488c-aa39-198238845502"
      },
      "execution_count": 9,
      "outputs": [
        {
          "output_type": "execute_result",
          "data": {
            "text/plain": [
              "<zip at 0x7ed82ca32380>"
            ]
          },
          "metadata": {},
          "execution_count": 9
        }
      ]
    },
    {
      "cell_type": "code",
      "source": [
        "list(zip(name,animal,age))"
      ],
      "metadata": {
        "colab": {
          "base_uri": "https://localhost:8080/"
        },
        "id": "hYqLXvS-1AlV",
        "outputId": "ab400992-f086-4bec-de6e-cf22d834cf20"
      },
      "execution_count": 11,
      "outputs": [
        {
          "output_type": "execute_result",
          "data": {
            "text/plain": [
              "[('show', 'cat', 1), ('chevy', 'lion', 2), ('bull', 'kutta', 4)]"
            ]
          },
          "metadata": {},
          "execution_count": 11
        }
      ]
    },
    {
      "cell_type": "code",
      "source": [
        "for i in list(zip(name,animal,age)):\n",
        "  print(i)"
      ],
      "metadata": {
        "colab": {
          "base_uri": "https://localhost:8080/"
        },
        "id": "hUcadhgv1UKS",
        "outputId": "a69a5381-f4be-46d4-8fe2-1cfb94a64f28"
      },
      "execution_count": 14,
      "outputs": [
        {
          "output_type": "stream",
          "name": "stdout",
          "text": [
            "('show', 'cat', 1)\n",
            "('chevy', 'lion', 2)\n",
            "('bull', 'kutta', 4)\n"
          ]
        }
      ]
    },
    {
      "cell_type": "code",
      "source": [
        "# ENUMERATE FUNCTION\n",
        "enumerate(name)"
      ],
      "metadata": {
        "colab": {
          "base_uri": "https://localhost:8080/"
        },
        "id": "mIDGSTcg1Y4a",
        "outputId": "e47f40bc-8cb2-499d-ac45-5df053dc50ed"
      },
      "execution_count": 15,
      "outputs": [
        {
          "output_type": "execute_result",
          "data": {
            "text/plain": [
              "<enumerate at 0x7ed82cae9800>"
            ]
          },
          "metadata": {},
          "execution_count": 15
        }
      ]
    },
    {
      "cell_type": "code",
      "source": [
        "# ,_ acting as a placeholder for items and helping us to unpack the tuple\n",
        "for i,_ in enumerate(name):\n",
        "  print(name[i], animal[i], age[i])"
      ],
      "metadata": {
        "colab": {
          "base_uri": "https://localhost:8080/"
        },
        "id": "Hxcj9ReD1pL4",
        "outputId": "8fa0f470-446c-4908-b432-955d7be17f1d"
      },
      "execution_count": 19,
      "outputs": [
        {
          "output_type": "stream",
          "name": "stdout",
          "text": [
            "show cat 1\n",
            "chevy lion 2\n",
            "bull kutta 4\n"
          ]
        }
      ]
    },
    {
      "cell_type": "code",
      "source": [
        "for i in enumerate(name):\n",
        "  print(i)"
      ],
      "metadata": {
        "colab": {
          "base_uri": "https://localhost:8080/"
        },
        "id": "oqVzPvoy1v7n",
        "outputId": "ebec0830-5a3b-4650-ad64-eff6bdb9bc37"
      },
      "execution_count": 20,
      "outputs": [
        {
          "output_type": "stream",
          "name": "stdout",
          "text": [
            "(0, 'show')\n",
            "(1, 'chevy')\n",
            "(2, 'bull')\n"
          ]
        }
      ]
    },
    {
      "cell_type": "code",
      "source": [
        "name, age = ['e',2]"
      ],
      "metadata": {
        "id": "3vE6v7BE17zL"
      },
      "execution_count": 21,
      "outputs": []
    },
    {
      "cell_type": "code",
      "source": [
        "name"
      ],
      "metadata": {
        "colab": {
          "base_uri": "https://localhost:8080/",
          "height": 35
        },
        "id": "gtixto6_2Qwc",
        "outputId": "ab8f5b47-204c-415c-a596-f8732cff55cf"
      },
      "execution_count": 22,
      "outputs": [
        {
          "output_type": "execute_result",
          "data": {
            "text/plain": [
              "'e'"
            ],
            "application/vnd.google.colaboratory.intrinsic+json": {
              "type": "string"
            }
          },
          "metadata": {},
          "execution_count": 22
        }
      ]
    },
    {
      "cell_type": "code",
      "source": [
        "age"
      ],
      "metadata": {
        "colab": {
          "base_uri": "https://localhost:8080/"
        },
        "id": "LVYCqOv_2Tiv",
        "outputId": "a945cd78-fe84-4f22-aff4-ed757b4a56cc"
      },
      "execution_count": 23,
      "outputs": [
        {
          "output_type": "execute_result",
          "data": {
            "text/plain": [
              "2"
            ]
          },
          "metadata": {},
          "execution_count": 23
        }
      ]
    },
    {
      "cell_type": "code",
      "source": [],
      "metadata": {
        "id": "Br9_k0Go2VlN"
      },
      "execution_count": null,
      "outputs": []
    },
    {
      "cell_type": "markdown",
      "source": [
        "Swap 2 items in a list.\n",
        "\n",
        "list1 = [23,85,19,99]"
      ],
      "metadata": {
        "id": "qo3P8hmS21X5"
      }
    },
    {
      "cell_type": "code",
      "source": [
        "list1 = [23,85,19,99]\n",
        "list1[0], list1[2] = list1[2], list1[0]\n",
        "list1"
      ],
      "metadata": {
        "colab": {
          "base_uri": "https://localhost:8080/"
        },
        "id": "St8QVPx22-Wp",
        "outputId": "2c88a932-b4ee-48a8-ebe0-ee9aa2c248fa"
      },
      "execution_count": 28,
      "outputs": [
        {
          "output_type": "execute_result",
          "data": {
            "text/plain": [
              "[19, 85, 23, 99]"
            ]
          },
          "metadata": {},
          "execution_count": 28
        }
      ]
    },
    {
      "cell_type": "markdown",
      "source": [
        "Program to find unique numbers in a given list.\n",
        "\n",
        "l1 = [1,9,1,5,6,7,3,5,6,7,8,1,2]"
      ],
      "metadata": {
        "id": "IfqlS7Wj3sp6"
      }
    },
    {
      "cell_type": "code",
      "source": [
        "l1 = [1,9,1,5,6,7,3,5,6,7,8,1,2]"
      ],
      "metadata": {
        "id": "veumX3bS3Isr"
      },
      "execution_count": 29,
      "outputs": []
    },
    {
      "cell_type": "code",
      "source": [
        "empty_list=[]\n",
        "for i in l1:\n",
        "  if i not in empty_list:\n",
        "    empty_list.append(i)"
      ],
      "metadata": {
        "id": "6f1P_2eo33Sv"
      },
      "execution_count": 31,
      "outputs": []
    },
    {
      "cell_type": "code",
      "source": [
        "empty_list"
      ],
      "metadata": {
        "colab": {
          "base_uri": "https://localhost:8080/"
        },
        "id": "VxIBILUt4GT4",
        "outputId": "a3270f05-726a-4ad2-b645-d206d2ab9e0a"
      },
      "execution_count": 32,
      "outputs": [
        {
          "output_type": "execute_result",
          "data": {
            "text/plain": [
              "[1, 9, 5, 6, 7, 3, 8, 2]"
            ]
          },
          "metadata": {},
          "execution_count": 32
        }
      ]
    },
    {
      "cell_type": "code",
      "source": [
        "set(l1)"
      ],
      "metadata": {
        "colab": {
          "base_uri": "https://localhost:8080/"
        },
        "id": "2_To81j84KB5",
        "outputId": "8cce1b46-03f0-4174-d3d9-3226ca5fe025"
      },
      "execution_count": 33,
      "outputs": [
        {
          "output_type": "execute_result",
          "data": {
            "text/plain": [
              "{1, 2, 3, 5, 6, 7, 8, 9}"
            ]
          },
          "metadata": {},
          "execution_count": 33
        }
      ]
    },
    {
      "cell_type": "code",
      "source": [],
      "metadata": {
        "id": "KU_eMZ5P4Oym"
      },
      "execution_count": null,
      "outputs": []
    },
    {
      "cell_type": "markdown",
      "source": [
        "python program for random integers."
      ],
      "metadata": {
        "id": "K5PvEfcM4Scv"
      }
    },
    {
      "cell_type": "code",
      "source": [
        "import random\n",
        "randomlist = []\n",
        "for i in range(0,5):\n",
        "  n = random.randint(1,30)\n",
        "  randomlist.append(n)\n",
        "print(randomlist)"
      ],
      "metadata": {
        "colab": {
          "base_uri": "https://localhost:8080/"
        },
        "id": "M3BNIWmh4dfe",
        "outputId": "ae5474f4-fa22-498e-f7a9-6a62240d84ed"
      },
      "execution_count": 47,
      "outputs": [
        {
          "output_type": "stream",
          "name": "stdout",
          "text": [
            "[28, 13, 28, 2, 21]\n"
          ]
        }
      ]
    },
    {
      "cell_type": "code",
      "source": [
        "# Python program to sort a list of strings on the number of alphabets in each word\n",
        "word = ['apple','banana','pears']\n",
        "sorted(word, key=len)"
      ],
      "metadata": {
        "colab": {
          "base_uri": "https://localhost:8080/"
        },
        "id": "SqHZO14b4quI",
        "outputId": "e1c5e372-2480-4866-ea6c-a5f71570c95b"
      },
      "execution_count": 48,
      "outputs": [
        {
          "output_type": "execute_result",
          "data": {
            "text/plain": [
              "['apple', 'pears', 'banana']"
            ]
          },
          "metadata": {},
          "execution_count": 48
        }
      ]
    },
    {
      "cell_type": "code",
      "source": [
        "# List of non-numeric items in a list in a seprate list.\n",
        "li = ['apple',1,'bnana',2.23,3.13,'arsh',9.6,'kiwi']"
      ],
      "metadata": {
        "id": "dNalB29c6XzZ"
      },
      "execution_count": 50,
      "outputs": []
    },
    {
      "cell_type": "code",
      "source": [
        "isinstance(5.4,float) # if found float it will return true."
      ],
      "metadata": {
        "colab": {
          "base_uri": "https://localhost:8080/"
        },
        "id": "m4fcD5uW7H5M",
        "outputId": "731cf131-217c-4c1f-f381-00d62ff531ad"
      },
      "execution_count": 53,
      "outputs": [
        {
          "output_type": "execute_result",
          "data": {
            "text/plain": [
              "True"
            ]
          },
          "metadata": {},
          "execution_count": 53
        }
      ]
    },
    {
      "cell_type": "code",
      "source": [
        "result = []\n",
        "for i in li:\n",
        "  if not isinstance(i,(int,float)):\n",
        "    result.append(i)\n",
        "result"
      ],
      "metadata": {
        "colab": {
          "base_uri": "https://localhost:8080/"
        },
        "id": "KgLZ14LW6q3V",
        "outputId": "7b94dfe0-15e7-4495-f0d5-88593bcca619"
      },
      "execution_count": 56,
      "outputs": [
        {
          "output_type": "execute_result",
          "data": {
            "text/plain": [
              "['apple', 'bnana', 'arsh', 'kiwi']"
            ]
          },
          "metadata": {},
          "execution_count": 56
        }
      ]
    },
    {
      "cell_type": "code",
      "source": [
        "string = \"Hello, world! This is a big string with various characters.\""
      ],
      "metadata": {
        "id": "oidM4oi861Pg"
      },
      "execution_count": 57,
      "outputs": []
    },
    {
      "cell_type": "code",
      "source": [
        "ord('1')"
      ],
      "metadata": {
        "colab": {
          "base_uri": "https://localhost:8080/"
        },
        "id": "e1xGek8c7yb8",
        "outputId": "69806378-0ada-40db-ff6d-ac8d146a5427"
      },
      "execution_count": 58,
      "outputs": [
        {
          "output_type": "execute_result",
          "data": {
            "text/plain": [
              "49"
            ]
          },
          "metadata": {},
          "execution_count": 58
        }
      ]
    },
    {
      "cell_type": "code",
      "source": [
        "ord('a')  # ASCII Value for each character"
      ],
      "metadata": {
        "colab": {
          "base_uri": "https://localhost:8080/"
        },
        "id": "YDHifq6y7zDD",
        "outputId": "db286fd1-9cc9-4290-bc91-59bebad6fd82"
      },
      "execution_count": 59,
      "outputs": [
        {
          "output_type": "execute_result",
          "data": {
            "text/plain": [
              "97"
            ]
          },
          "metadata": {},
          "execution_count": 59
        }
      ]
    },
    {
      "cell_type": "code",
      "source": [
        "result = []\n",
        "for i in string:\n",
        "  result.append(ord(i))\n",
        "result"
      ],
      "metadata": {
        "id": "QH8cZQ3K71iA"
      },
      "execution_count": null,
      "outputs": []
    },
    {
      "cell_type": "code",
      "source": [
        "# Two common elements in a List.\n",
        "\n",
        "l1=[1,2,4,5,6]\n",
        "l2=[2,5,6,68,8]\n",
        "\n",
        "common = []\n",
        "\n",
        "for i in l1:\n",
        "  if i in l2:\n",
        "    common.append(i)\n",
        "common"
      ],
      "metadata": {
        "colab": {
          "base_uri": "https://localhost:8080/"
        },
        "id": "ihdbFmJv76Zf",
        "outputId": "09cffdc6-da75-4f89-d9d6-995c1755678c"
      },
      "execution_count": 63,
      "outputs": [
        {
          "output_type": "execute_result",
          "data": {
            "text/plain": [
              "[2, 5, 6]"
            ]
          },
          "metadata": {},
          "execution_count": 63
        }
      ]
    },
    {
      "cell_type": "code",
      "source": [
        "# Using set\n",
        "set(l1).intersection(l2)"
      ],
      "metadata": {
        "colab": {
          "base_uri": "https://localhost:8080/"
        },
        "id": "gLIZCrDX9UBk",
        "outputId": "aa178772-5a8d-4bd1-ea66-6d8eda3b9023"
      },
      "execution_count": 64,
      "outputs": [
        {
          "output_type": "execute_result",
          "data": {
            "text/plain": [
              "{2, 5, 6}"
            ]
          },
          "metadata": {},
          "execution_count": 64
        }
      ]
    },
    {
      "cell_type": "markdown",
      "source": [
        "# **LIST COMPREHENSION**\n",
        "\n",
        "1. Faster method\n",
        "2. Creating an empty list then append over it is the conventional approach till now but it is an easier way to convert a list and directly write your code over it.\n",
        "\n",
        "[ X for X in range (0,n+1) if X%2==0]"
      ],
      "metadata": {
        "id": "7o7-PI3I9VK6"
      }
    },
    {
      "cell_type": "code",
      "source": [
        "n = []\n",
        "for i in range (1,11):\n",
        "  n.append(i)\n",
        "n"
      ],
      "metadata": {
        "colab": {
          "base_uri": "https://localhost:8080/"
        },
        "id": "x75Xk1Y_9Ywr",
        "outputId": "56401832-8e2e-46b4-87b1-7f749e12a8cd"
      },
      "execution_count": 65,
      "outputs": [
        {
          "output_type": "execute_result",
          "data": {
            "text/plain": [
              "[1, 2, 3, 4, 5, 6, 7, 8, 9, 10]"
            ]
          },
          "metadata": {},
          "execution_count": 65
        }
      ]
    },
    {
      "cell_type": "code",
      "source": [
        "n = [i for i in range(1,11)]  # LIST COMPREHENSION => Eliminating Append\n",
        "n"
      ],
      "metadata": {
        "colab": {
          "base_uri": "https://localhost:8080/"
        },
        "id": "Quc2omShEW09",
        "outputId": "a57a3a01-9937-46b5-fdec-9f8c13f46a24"
      },
      "execution_count": 66,
      "outputs": [
        {
          "output_type": "execute_result",
          "data": {
            "text/plain": [
              "[1, 2, 3, 4, 5, 6, 7, 8, 9, 10]"
            ]
          },
          "metadata": {},
          "execution_count": 66
        }
      ]
    },
    {
      "cell_type": "code",
      "source": [
        "x = [i for i in range(1,21) if i%2==0]\n",
        "x"
      ],
      "metadata": {
        "colab": {
          "base_uri": "https://localhost:8080/"
        },
        "id": "ejcDD1zGEf1f",
        "outputId": "ea7ef053-c843-4bf9-bd99-19b07dc0c0dc"
      },
      "execution_count": 67,
      "outputs": [
        {
          "output_type": "execute_result",
          "data": {
            "text/plain": [
              "[2, 4, 6, 8, 10, 12, 14, 16, 18, 20]"
            ]
          },
          "metadata": {},
          "execution_count": 67
        }
      ]
    },
    {
      "cell_type": "code",
      "source": [
        "# List of squares of all the odd numbers ranging from [1,20]\n",
        "\n",
        "y = [i ** 2 for i in range(1,21) if i%2!=0]\n",
        "y"
      ],
      "metadata": {
        "colab": {
          "base_uri": "https://localhost:8080/"
        },
        "id": "Dqdz2IO_Et-3",
        "outputId": "15dbe344-4cdf-4971-87d8-a19121765257"
      },
      "execution_count": 68,
      "outputs": [
        {
          "output_type": "execute_result",
          "data": {
            "text/plain": [
              "[1, 9, 25, 49, 81, 121, 169, 225, 289, 361]"
            ]
          },
          "metadata": {},
          "execution_count": 68
        }
      ]
    },
    {
      "cell_type": "code",
      "source": [
        "# Writing Else statement within List comprehension so you need to take the conditional statement before the loop\n",
        "z = [i ** 2 if i%2 ==0 else \"Not Even\" for i in range(1,21)]"
      ],
      "metadata": {
        "id": "2CvdW_frFbpg"
      },
      "execution_count": 72,
      "outputs": []
    },
    {
      "cell_type": "code",
      "source": [
        "z"
      ],
      "metadata": {
        "colab": {
          "base_uri": "https://localhost:8080/"
        },
        "id": "paEHNDSdF7_H",
        "outputId": "9b68ced3-95f5-48ec-9dc1-77a2dcb12955"
      },
      "execution_count": 73,
      "outputs": [
        {
          "output_type": "execute_result",
          "data": {
            "text/plain": [
              "['Not Even',\n",
              " 4,\n",
              " 'Not Even',\n",
              " 16,\n",
              " 'Not Even',\n",
              " 36,\n",
              " 'Not Even',\n",
              " 64,\n",
              " 'Not Even',\n",
              " 100,\n",
              " 'Not Even',\n",
              " 144,\n",
              " 'Not Even',\n",
              " 196,\n",
              " 'Not Even',\n",
              " 256,\n",
              " 'Not Even',\n",
              " 324,\n",
              " 'Not Even',\n",
              " 400]"
            ]
          },
          "metadata": {},
          "execution_count": 73
        }
      ]
    },
    {
      "cell_type": "code",
      "source": [
        "# Nested Conditions\n",
        "\n",
        "ages = [14, 20, 56, 45, 105, 20]\n",
        "\n",
        "''' if >60 -> too old\n",
        "    if >25 -> too young\n",
        "'''\n",
        "r=[]\n",
        "for i in ages:\n",
        "  if ages >25 and ages <60:\n",
        "    print(\"too old\")\n",
        "    if()\n",
        "\n"
      ],
      "metadata": {
        "id": "6p3Q19ItGccp"
      },
      "execution_count": null,
      "outputs": []
    },
    {
      "cell_type": "code",
      "source": [
        "result = [(\"Too old\" if age > 60 else \"Right Age\" if age > 25 else \"Too young\", age) for age in ages]"
      ],
      "metadata": {
        "id": "f_MvdCY8IJ-L"
      },
      "execution_count": null,
      "outputs": []
    },
    {
      "cell_type": "code",
      "source": [
        "import random\n",
        "\n",
        "[random.randint(1,100) for i in range(1,10)]"
      ],
      "metadata": {
        "colab": {
          "base_uri": "https://localhost:8080/"
        },
        "id": "nQz7a_pMIdbi",
        "outputId": "287e61e7-597f-41ba-a88e-42585cd5c467"
      },
      "execution_count": 77,
      "outputs": [
        {
          "output_type": "execute_result",
          "data": {
            "text/plain": [
              "[80, 38, 97, 24, 68, 88, 1, 59, 85]"
            ]
          },
          "metadata": {},
          "execution_count": 77
        }
      ]
    },
    {
      "cell_type": "code",
      "source": [
        "# Two common elements in a List.\n",
        "\n",
        "l1=[1,2,4,5,6]\n",
        "l2=[2,5,6,68,8]\n",
        "\n",
        "common = []\n",
        "\n",
        "for i in l1:\n",
        "  if i in l2:\n",
        "    common.append(i)\n",
        "common"
      ],
      "metadata": {
        "colab": {
          "base_uri": "https://localhost:8080/"
        },
        "id": "X3XNAgQoJfIj",
        "outputId": "807c504a-9e75-4444-d41b-adff8c3bebd4"
      },
      "execution_count": 78,
      "outputs": [
        {
          "output_type": "execute_result",
          "data": {
            "text/plain": [
              "[2, 5, 6]"
            ]
          },
          "metadata": {},
          "execution_count": 78
        }
      ]
    },
    {
      "cell_type": "code",
      "source": [
        "[i in l1 for i in l2]"
      ],
      "metadata": {
        "colab": {
          "base_uri": "https://localhost:8080/"
        },
        "id": "cgFPcckzKPbM",
        "outputId": "56299006-9368-4be4-89a6-af5103938ba5"
      },
      "execution_count": 80,
      "outputs": [
        {
          "output_type": "execute_result",
          "data": {
            "text/plain": [
              "[True, True, True, False, False]"
            ]
          },
          "metadata": {},
          "execution_count": 80
        }
      ]
    },
    {
      "cell_type": "code",
      "source": [
        "l1=[1,2,4]\n",
        "l2=[2,5,6]\n",
        "result = []\n",
        "for i in l1:\n",
        "  for j in l2:\n",
        "    result.append(i*j)\n",
        "result"
      ],
      "metadata": {
        "colab": {
          "base_uri": "https://localhost:8080/"
        },
        "id": "UUDAEi0MKXd9",
        "outputId": "b59cda75-ebce-47e2-b660-5384d1828ad1"
      },
      "execution_count": 84,
      "outputs": [
        {
          "output_type": "execute_result",
          "data": {
            "text/plain": [
              "[2, 5, 6, 4, 10, 12, 8, 20, 24]"
            ]
          },
          "metadata": {},
          "execution_count": 84
        }
      ]
    },
    {
      "cell_type": "code",
      "source": [
        "result = [i*j for i in l1 for j in l2]"
      ],
      "metadata": {
        "id": "mnRfCGMOK_0W"
      },
      "execution_count": 82,
      "outputs": []
    },
    {
      "cell_type": "code",
      "source": [
        "result"
      ],
      "metadata": {
        "colab": {
          "base_uri": "https://localhost:8080/"
        },
        "id": "FV4JF5nTLISG",
        "outputId": "4823fc65-7018-4c8a-ea1c-d103a9437409"
      },
      "execution_count": 85,
      "outputs": [
        {
          "output_type": "execute_result",
          "data": {
            "text/plain": [
              "[2, 5, 6, 4, 10, 12, 8, 20, 24]"
            ]
          },
          "metadata": {},
          "execution_count": 85
        }
      ]
    },
    {
      "cell_type": "code",
      "source": [
        "[\"*\" for i in range(1,5)]"
      ],
      "metadata": {
        "colab": {
          "base_uri": "https://localhost:8080/"
        },
        "id": "LTEJzFi_LJJa",
        "outputId": "52a4235f-1f60-41ba-cd41-d92265d8c306"
      },
      "execution_count": 86,
      "outputs": [
        {
          "output_type": "execute_result",
          "data": {
            "text/plain": [
              "['*', '*', '*', '*']"
            ]
          },
          "metadata": {},
          "execution_count": 86
        }
      ]
    },
    {
      "cell_type": "code",
      "source": [
        "rows = 5\n",
        "pattern = ''\n",
        "for i in range(1, rows+1):\n",
        "  row=''\n",
        "  for j in range(1,i+1):\n",
        "    row += str[j] + ' '\n",
        "  pattern += row.strip() + '\\n'"
      ],
      "metadata": {
        "colab": {
          "base_uri": "https://localhost:8080/",
          "height": 227
        },
        "id": "HZ8DVXjnLqqW",
        "outputId": "96d9cf4e-f8ac-4798-d2ce-e23e0fe94f13"
      },
      "execution_count": 89,
      "outputs": [
        {
          "output_type": "error",
          "ename": "TypeError",
          "evalue": "ignored",
          "traceback": [
            "\u001b[0;31m---------------------------------------------------------------------------\u001b[0m",
            "\u001b[0;31mTypeError\u001b[0m                                 Traceback (most recent call last)",
            "\u001b[0;32m<ipython-input-89-babf3ec2d2c7>\u001b[0m in \u001b[0;36m<cell line: 3>\u001b[0;34m()\u001b[0m\n\u001b[1;32m      4\u001b[0m   \u001b[0mrow\u001b[0m\u001b[0;34m=\u001b[0m\u001b[0;34m''\u001b[0m\u001b[0;34m\u001b[0m\u001b[0;34m\u001b[0m\u001b[0m\n\u001b[1;32m      5\u001b[0m   \u001b[0;32mfor\u001b[0m \u001b[0mj\u001b[0m \u001b[0;32min\u001b[0m \u001b[0mrange\u001b[0m\u001b[0;34m(\u001b[0m\u001b[0;36m1\u001b[0m\u001b[0;34m,\u001b[0m\u001b[0mi\u001b[0m\u001b[0;34m+\u001b[0m\u001b[0;36m1\u001b[0m\u001b[0;34m)\u001b[0m\u001b[0;34m:\u001b[0m\u001b[0;34m\u001b[0m\u001b[0;34m\u001b[0m\u001b[0m\n\u001b[0;32m----> 6\u001b[0;31m     \u001b[0mrow\u001b[0m \u001b[0;34m+=\u001b[0m \u001b[0mstr\u001b[0m\u001b[0;34m[\u001b[0m\u001b[0mj\u001b[0m\u001b[0;34m]\u001b[0m \u001b[0;34m+\u001b[0m \u001b[0;34m' '\u001b[0m\u001b[0;34m\u001b[0m\u001b[0;34m\u001b[0m\u001b[0m\n\u001b[0m\u001b[1;32m      7\u001b[0m   \u001b[0mpattern\u001b[0m \u001b[0;34m+=\u001b[0m \u001b[0mrow\u001b[0m\u001b[0;34m.\u001b[0m\u001b[0mstrip\u001b[0m\u001b[0;34m(\u001b[0m\u001b[0;34m)\u001b[0m \u001b[0;34m+\u001b[0m \u001b[0;34m'\\n'\u001b[0m\u001b[0;34m\u001b[0m\u001b[0;34m\u001b[0m\u001b[0m\n",
            "\u001b[0;31mTypeError\u001b[0m: 'type' object is not subscriptable"
          ]
        }
      ]
    },
    {
      "cell_type": "code",
      "source": [
        "pattern = '\\n'.join(' ', join(str(j)) for j in range(1, i+1) for j in )"
      ],
      "metadata": {
        "id": "5AcLRdrhMKCQ"
      },
      "execution_count": null,
      "outputs": []
    },
    {
      "cell_type": "markdown",
      "source": [
        "# **TUPLES**"
      ],
      "metadata": {
        "id": "24auRt2cPeJY"
      }
    },
    {
      "cell_type": "code",
      "source": [
        "x = [23,34,35,53,234,334]\n",
        "t = tuple(x)"
      ],
      "metadata": {
        "id": "JS-8xi_-PgKb"
      },
      "execution_count": 90,
      "outputs": []
    },
    {
      "cell_type": "code",
      "source": [
        "t"
      ],
      "metadata": {
        "colab": {
          "base_uri": "https://localhost:8080/"
        },
        "id": "az2VoewyP_du",
        "outputId": "601293ee-f138-4022-ba13-9b735b7d322d"
      },
      "execution_count": 91,
      "outputs": [
        {
          "output_type": "execute_result",
          "data": {
            "text/plain": [
              "(23, 34, 35, 53, 234, 334)"
            ]
          },
          "metadata": {},
          "execution_count": 91
        }
      ]
    },
    {
      "cell_type": "code",
      "source": [
        "t+t"
      ],
      "metadata": {
        "colab": {
          "base_uri": "https://localhost:8080/"
        },
        "id": "6TJUXEX6QAP6",
        "outputId": "c54ec39d-0109-475e-a80c-d5188a451c7d"
      },
      "execution_count": 92,
      "outputs": [
        {
          "output_type": "execute_result",
          "data": {
            "text/plain": [
              "(23, 34, 35, 53, 234, 334, 23, 34, 35, 53, 234, 334)"
            ]
          },
          "metadata": {},
          "execution_count": 92
        }
      ]
    },
    {
      "cell_type": "code",
      "source": [
        "0 in t"
      ],
      "metadata": {
        "colab": {
          "base_uri": "https://localhost:8080/"
        },
        "id": "WKohNaFLQEgm",
        "outputId": "fc1afab9-bbfd-4828-91b1-9b384f1145be"
      },
      "execution_count": 95,
      "outputs": [
        {
          "output_type": "execute_result",
          "data": {
            "text/plain": [
              "False"
            ]
          },
          "metadata": {},
          "execution_count": 95
        }
      ]
    },
    {
      "cell_type": "code",
      "source": [
        "for i in t:\n",
        "  print(t)"
      ],
      "metadata": {
        "colab": {
          "base_uri": "https://localhost:8080/"
        },
        "id": "1V0gnaSpQH2a",
        "outputId": "d4dea640-dc55-4009-e850-287abcc51536"
      },
      "execution_count": 97,
      "outputs": [
        {
          "output_type": "stream",
          "name": "stdout",
          "text": [
            "(23, 34, 35, 53, 234, 334)\n",
            "(23, 34, 35, 53, 234, 334)\n",
            "(23, 34, 35, 53, 234, 334)\n",
            "(23, 34, 35, 53, 234, 334)\n",
            "(23, 34, 35, 53, 234, 334)\n",
            "(23, 34, 35, 53, 234, 334)\n"
          ]
        }
      ]
    },
    {
      "cell_type": "code",
      "source": [
        "t.remove(i)\n"
      ],
      "metadata": {
        "colab": {
          "base_uri": "https://localhost:8080/",
          "height": 175
        },
        "id": "0sl73qyvQLi8",
        "outputId": "42ec0f40-425d-4f62-9440-5459b7e828b3"
      },
      "execution_count": 98,
      "outputs": [
        {
          "output_type": "error",
          "ename": "AttributeError",
          "evalue": "ignored",
          "traceback": [
            "\u001b[0;31m---------------------------------------------------------------------------\u001b[0m",
            "\u001b[0;31mAttributeError\u001b[0m                            Traceback (most recent call last)",
            "\u001b[0;32m<ipython-input-98-d033583e497e>\u001b[0m in \u001b[0;36m<cell line: 1>\u001b[0;34m()\u001b[0m\n\u001b[0;32m----> 1\u001b[0;31m \u001b[0mt\u001b[0m\u001b[0;34m.\u001b[0m\u001b[0mremove\u001b[0m\u001b[0;34m(\u001b[0m\u001b[0mi\u001b[0m\u001b[0;34m)\u001b[0m\u001b[0;34m\u001b[0m\u001b[0;34m\u001b[0m\u001b[0m\n\u001b[0m",
            "\u001b[0;31mAttributeError\u001b[0m: 'tuple' object has no attribute 'remove'"
          ]
        }
      ]
    },
    {
      "cell_type": "code",
      "source": [
        "num,geet,list=(1,'',[324,34,34])"
      ],
      "metadata": {
        "id": "0KjnC9XRQPEw"
      },
      "execution_count": 100,
      "outputs": []
    },
    {
      "cell_type": "code",
      "source": [
        "num"
      ],
      "metadata": {
        "colab": {
          "base_uri": "https://localhost:8080/"
        },
        "id": "tXjazeOrQh0Y",
        "outputId": "3b6a446c-730b-4b04-c4b9-b2d49178f347"
      },
      "execution_count": 101,
      "outputs": [
        {
          "output_type": "execute_result",
          "data": {
            "text/plain": [
              "1"
            ]
          },
          "metadata": {},
          "execution_count": 101
        }
      ]
    },
    {
      "cell_type": "code",
      "source": [
        "geet"
      ],
      "metadata": {
        "colab": {
          "base_uri": "https://localhost:8080/",
          "height": 35
        },
        "id": "FDw7pM57Qrr4",
        "outputId": "eeeceab0-d5eb-4d62-dc56-b7e7b429b665"
      },
      "execution_count": 102,
      "outputs": [
        {
          "output_type": "execute_result",
          "data": {
            "text/plain": [
              "''"
            ],
            "application/vnd.google.colaboratory.intrinsic+json": {
              "type": "string"
            }
          },
          "metadata": {},
          "execution_count": 102
        }
      ]
    },
    {
      "cell_type": "code",
      "source": [
        "list"
      ],
      "metadata": {
        "colab": {
          "base_uri": "https://localhost:8080/"
        },
        "id": "X-eDt1_PQsd_",
        "outputId": "18d1d03c-1de8-40af-820b-2f406003dcc0"
      },
      "execution_count": 103,
      "outputs": [
        {
          "output_type": "execute_result",
          "data": {
            "text/plain": [
              "[324, 34, 34]"
            ]
          },
          "metadata": {},
          "execution_count": 103
        }
      ]
    },
    {
      "cell_type": "code",
      "source": [
        "sorted(t)"
      ],
      "metadata": {
        "colab": {
          "base_uri": "https://localhost:8080/"
        },
        "id": "ndoX8ZCIQtN0",
        "outputId": "a09badf4-153b-4c67-e5cb-e00ed0c76ecf"
      },
      "execution_count": 104,
      "outputs": [
        {
          "output_type": "execute_result",
          "data": {
            "text/plain": [
              "[23, 34, 35, 53, 234, 334]"
            ]
          },
          "metadata": {},
          "execution_count": 104
        }
      ]
    },
    {
      "cell_type": "code",
      "source": [
        "t[0]"
      ],
      "metadata": {
        "colab": {
          "base_uri": "https://localhost:8080/"
        },
        "id": "OnvtYCiSQ6Nj",
        "outputId": "58f1ae4d-89d8-40a9-e92e-0360fc40c566"
      },
      "execution_count": 105,
      "outputs": [
        {
          "output_type": "execute_result",
          "data": {
            "text/plain": [
              "23"
            ]
          },
          "metadata": {},
          "execution_count": 105
        }
      ]
    },
    {
      "cell_type": "code",
      "source": [
        "t[-1]"
      ],
      "metadata": {
        "colab": {
          "base_uri": "https://localhost:8080/"
        },
        "id": "aVeFzzxmRBbv",
        "outputId": "c8921a8d-44ac-4ec9-9834-97a291ed8933"
      },
      "execution_count": 106,
      "outputs": [
        {
          "output_type": "execute_result",
          "data": {
            "text/plain": [
              "334"
            ]
          },
          "metadata": {},
          "execution_count": 106
        }
      ]
    },
    {
      "cell_type": "code",
      "source": [
        "is t[5] == t[-1]"
      ],
      "metadata": {
        "colab": {
          "base_uri": "https://localhost:8080/",
          "height": 140
        },
        "id": "QxvX_G5GRFoS",
        "outputId": "6a15fd79-876b-4a67-f061-c7fa67cd2cf6"
      },
      "execution_count": 107,
      "outputs": [
        {
          "output_type": "error",
          "ename": "SyntaxError",
          "evalue": "ignored",
          "traceback": [
            "\u001b[0;36m  File \u001b[0;32m\"<ipython-input-107-afcf75df3251>\"\u001b[0;36m, line \u001b[0;32m1\u001b[0m\n\u001b[0;31m    is t[5] == t[-1]\u001b[0m\n\u001b[0m    ^\u001b[0m\n\u001b[0;31mSyntaxError\u001b[0m\u001b[0;31m:\u001b[0m invalid syntax\n"
          ]
        }
      ]
    },
    {
      "cell_type": "code",
      "source": [
        "vowels_tuple = ('a','e','i','o','u','s')"
      ],
      "metadata": {
        "id": "OPEGwjpyRKzf"
      },
      "execution_count": 111,
      "outputs": []
    },
    {
      "cell_type": "code",
      "source": [
        "vowels_list = list(vowels_tuple)"
      ],
      "metadata": {
        "colab": {
          "base_uri": "https://localhost:8080/",
          "height": 175
        },
        "id": "huSMbvhXRqZL",
        "outputId": "496381e8-6c09-4d09-ea9e-85550be0dfc0"
      },
      "execution_count": 112,
      "outputs": [
        {
          "output_type": "error",
          "ename": "TypeError",
          "evalue": "ignored",
          "traceback": [
            "\u001b[0;31m---------------------------------------------------------------------------\u001b[0m",
            "\u001b[0;31mTypeError\u001b[0m                                 Traceback (most recent call last)",
            "\u001b[0;32m<ipython-input-112-1ea617440957>\u001b[0m in \u001b[0;36m<cell line: 1>\u001b[0;34m()\u001b[0m\n\u001b[0;32m----> 1\u001b[0;31m \u001b[0mvowels_list\u001b[0m \u001b[0;34m=\u001b[0m \u001b[0mlist\u001b[0m\u001b[0;34m(\u001b[0m\u001b[0mvowels_tuple\u001b[0m\u001b[0;34m)\u001b[0m\u001b[0;34m\u001b[0m\u001b[0;34m\u001b[0m\u001b[0m\n\u001b[0m",
            "\u001b[0;31mTypeError\u001b[0m: 'list' object is not callable"
          ]
        }
      ]
    },
    {
      "cell_type": "code",
      "source": [
        "# WAP to unzip the list of tuples into individual lists.\n",
        "\n",
        "listOfTuples = [(1,'a'),(2,'b')]\n",
        "zip(listOfTuples)"
      ],
      "metadata": {
        "colab": {
          "base_uri": "https://localhost:8080/"
        },
        "id": "wNTufcPrR1O1",
        "outputId": "3cf09ec3-da25-4365-a1b6-7abfc0e72147"
      },
      "execution_count": 113,
      "outputs": [
        {
          "output_type": "execute_result",
          "data": {
            "text/plain": [
              "<zip at 0x7ed80f009280>"
            ]
          },
          "metadata": {},
          "execution_count": 113
        }
      ]
    },
    {
      "cell_type": "code",
      "source": [
        "list(zip(*listOfTuples))"
      ],
      "metadata": {
        "colab": {
          "base_uri": "https://localhost:8080/",
          "height": 175
        },
        "id": "QfJvMpVwSuMb",
        "outputId": "7c23b2d0-3f8c-4af2-aa65-eac6e97fe3ab"
      },
      "execution_count": 115,
      "outputs": [
        {
          "output_type": "error",
          "ename": "TypeError",
          "evalue": "ignored",
          "traceback": [
            "\u001b[0;31m---------------------------------------------------------------------------\u001b[0m",
            "\u001b[0;31mTypeError\u001b[0m                                 Traceback (most recent call last)",
            "\u001b[0;32m<ipython-input-115-b3785557d008>\u001b[0m in \u001b[0;36m<cell line: 1>\u001b[0;34m()\u001b[0m\n\u001b[0;32m----> 1\u001b[0;31m \u001b[0mlist\u001b[0m\u001b[0;34m(\u001b[0m\u001b[0mzip\u001b[0m\u001b[0;34m(\u001b[0m\u001b[0;34m*\u001b[0m\u001b[0mlistOfTuples\u001b[0m\u001b[0;34m)\u001b[0m\u001b[0;34m)\u001b[0m\u001b[0;34m\u001b[0m\u001b[0;34m\u001b[0m\u001b[0m\n\u001b[0m",
            "\u001b[0;31mTypeError\u001b[0m: 'list' object is not callable"
          ]
        }
      ]
    },
    {
      "cell_type": "code",
      "source": [],
      "metadata": {
        "id": "to85svlKSxTq"
      },
      "execution_count": null,
      "outputs": []
    }
  ]
}