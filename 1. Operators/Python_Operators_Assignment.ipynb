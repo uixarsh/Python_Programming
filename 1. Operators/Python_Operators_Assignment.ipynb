{
  "cells": [
    {
      "cell_type": "markdown",
      "metadata": {
        "id": "Qx8ILUACxiy2"
      },
      "source": [
        "**1. Calculate the sum, difference, product and quotient of two numbers.**"
      ]
    },
    {
      "cell_type": "code",
      "execution_count": null,
      "metadata": {
        "id": "XMcIuryOxpsT"
      },
      "outputs": [],
      "source": [
        "a = float(input(\"Enter the first number : \"))\n",
        "b = float(input(\"Enter the second number : \"))\n",
        "print(\"sum = \", a+b)\n",
        "print(\"difference =\", a-b)\n",
        "print(\"product =\", a*b)\n",
        "print(\"quotient\", (a-(a%b))/b)"
      ]
    },
    {
      "cell_type": "markdown",
      "metadata": {
        "id": "SQQ7Y38bz8Ai"
      },
      "source": [
        "**2. Perform various assignment operations on a variable.**"
      ]
    },
    {
      "cell_type": "code",
      "execution_count": null,
      "metadata": {
        "id": "aNylcFXlz-FC"
      },
      "outputs": [],
      "source": [
        "a=10      #a=10\n",
        "a+=20     #a=30\n",
        "a*=2      #a=60\n",
        "a/=2      #a=30.0\n",
        "print(a)"
      ]
    },
    {
      "cell_type": "markdown",
      "metadata": {
        "id": "UXyHuHTJ0qLt"
      },
      "source": [
        "**3. Compare two numbers and print the results.**"
      ]
    },
    {
      "cell_type": "code",
      "execution_count": null,
      "metadata": {
        "id": "xz54QC9Q0spt"
      },
      "outputs": [],
      "source": [
        "a = float(input(\"Enter the First Nunber : \"))\n",
        "b = float(input(\"Enter the Second Number : \"))\n",
        "print (\"a>b : \", a>b)\n",
        "print (\"a<b : \", a<b)\n",
        "print (\"a=b : \", a==b)"
      ]
    },
    {
      "cell_type": "markdown",
      "metadata": {
        "id": "b86cBH2N1k8N"
      },
      "source": [
        "**4. Check conditions using logical operators.**"
      ]
    },
    {
      "cell_type": "code",
      "execution_count": null,
      "metadata": {
        "id": "0oVCwMEV1m0F"
      },
      "outputs": [],
      "source": [
        "a = bool(input(\"Enter the First True/False : \"))\n",
        "b = bool(input(\"Enter the Second True/False : \"))\n",
        "print(\"and operation : \", a and b)\n",
        "print(\"or operation : \", a or b)\n",
        "print (\"not operation : \", not a, \" \", not b)"
      ]
    },
    {
      "cell_type": "markdown",
      "metadata": {
        "id": "GJ6jpkyuX5TA"
      },
      "source": [
        "**5. Check the identity of variables.**"
      ]
    },
    {
      "cell_type": "code",
      "execution_count": null,
      "metadata": {
        "id": "4UXV69ntX7CD"
      },
      "outputs": [],
      "source": [
        "a=10\n",
        "b=12\n",
        "print(id(a))\n",
        "print(id(b))"
      ]
    },
    {
      "cell_type": "markdown",
      "metadata": {
        "id": "7WsHpG4NYN3K"
      },
      "source": [
        "**6. Perform bitwise operations on any two integers.**\n",
        "\n",
        "\n"
      ]
    },
    {
      "cell_type": "code",
      "execution_count": null,
      "metadata": {
        "id": "5YDlpiaYYSAS"
      },
      "outputs": [],
      "source": [
        "a=8\n",
        "b=a>>2 # Bitwise Right Shift => 1000>>2 => 0010 => 2\n",
        "print(b)\n",
        "\n",
        "c=16\n",
        "d=c<<2 # Bitwise Left Shift => 10000<<2 => 10000000 => 64\n",
        "print(d)"
      ]
    },
    {
      "cell_type": "markdown",
      "metadata": {
        "id": "4ico-gfoZPG_"
      },
      "source": [
        "**7. Use unary operators to change the sign of a number.**"
      ]
    },
    {
      "cell_type": "code",
      "execution_count": null,
      "metadata": {
        "colab": {
          "base_uri": "https://localhost:8080/"
        },
        "id": "fX5s5xBYZR4M",
        "outputId": "e1b3e8d2-b20c-4f1f-b063-e0b61dc86c10"
      },
      "outputs": [],
      "source": [
        "a=7\n",
        "print(-a)\n",
        "print(-a+1023)"
      ]
    },
    {
      "cell_type": "markdown",
      "metadata": {
        "id": "k24vVaKobUxa"
      },
      "source": [
        "**8. Use the ternary operator to assign values based on conditions.**"
      ]
    },
    {
      "cell_type": "code",
      "execution_count": null,
      "metadata": {
        "id": "7B4Ktq4NbWxj"
      },
      "outputs": [],
      "source": [
        "# TERNARY OPERATOR:\n",
        "a=20\n",
        "b=23\n",
        "# Options1 if CONDITIONS else Options2\n",
        "print(\"Hi\") if a>b else print(\"Hello\")"
      ]
    }
  ],
  "metadata": {
    "colab": {
      "provenance": []
    },
    "kernelspec": {
      "display_name": "Python 3",
      "name": "python3"
    },
    "language_info": {
      "codemirror_mode": {
        "name": "ipython",
        "version": 3
      },
      "file_extension": ".py",
      "mimetype": "text/x-python",
      "name": "python",
      "nbconvert_exporter": "python",
      "pygments_lexer": "ipython3",
      "version": "3.11.0"
    }
  },
  "nbformat": 4,
  "nbformat_minor": 0
}
