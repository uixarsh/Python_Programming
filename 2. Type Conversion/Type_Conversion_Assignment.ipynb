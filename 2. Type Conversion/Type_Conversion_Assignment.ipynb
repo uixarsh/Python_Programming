{
  "nbformat": 4,
  "nbformat_minor": 0,
  "metadata": {
    "colab": {
      "provenance": []
    },
    "kernelspec": {
      "name": "python3",
      "display_name": "Python 3"
    },
    "language_info": {
      "name": "python"
    }
  },
  "cells": [
    {
      "cell_type": "markdown",
      "source": [
        "**1. Convert an Integer into a Floating Point number.**"
      ],
      "metadata": {
        "id": "ZAYMtSUvJsk3"
      }
    },
    {
      "cell_type": "code",
      "source": [
        "a = 10\n",
        "b = float(a)\n",
        "print (b)\n",
        "type(b)"
      ],
      "metadata": {
        "colab": {
          "base_uri": "https://localhost:8080/"
        },
        "id": "57Zz1GPbJqTV",
        "outputId": "a9ef0057-92b7-487f-9ff3-ae7b33d8ba0a"
      },
      "execution_count": 6,
      "outputs": [
        {
          "output_type": "stream",
          "name": "stdout",
          "text": [
            "10.0\n"
          ]
        },
        {
          "output_type": "execute_result",
          "data": {
            "text/plain": [
              "float"
            ]
          },
          "metadata": {},
          "execution_count": 6
        }
      ]
    },
    {
      "cell_type": "markdown",
      "source": [
        "**2. Convert a float into an Integer.**"
      ],
      "metadata": {
        "id": "1KYPnXWoJ8GC"
      }
    },
    {
      "cell_type": "code",
      "source": [
        "a = 10.98\n",
        "b = int(a)\n",
        "print(b)\n",
        "type(b)"
      ],
      "metadata": {
        "colab": {
          "base_uri": "https://localhost:8080/"
        },
        "id": "jlXD5QwFKAcr",
        "outputId": "2ffe9494-988b-49bf-a906-5ce17e65b48c"
      },
      "execution_count": 7,
      "outputs": [
        {
          "output_type": "stream",
          "name": "stdout",
          "text": [
            "10\n"
          ]
        },
        {
          "output_type": "execute_result",
          "data": {
            "text/plain": [
              "int"
            ]
          },
          "metadata": {},
          "execution_count": 7
        }
      ]
    },
    {
      "cell_type": "markdown",
      "source": [
        "**3. Convert an Integer into a sting.**"
      ],
      "metadata": {
        "id": "JJimTjVXKQ8G"
      }
    },
    {
      "cell_type": "code",
      "source": [
        "a = 10\n",
        "b = str(a)\n",
        "print(b)\n",
        "type(b)"
      ],
      "metadata": {
        "colab": {
          "base_uri": "https://localhost:8080/"
        },
        "id": "tWUxGpdXKWTs",
        "outputId": "bcb9c491-7a03-4cf1-e4a6-284972ec1865"
      },
      "execution_count": 8,
      "outputs": [
        {
          "output_type": "stream",
          "name": "stdout",
          "text": [
            "10\n"
          ]
        },
        {
          "output_type": "execute_result",
          "data": {
            "text/plain": [
              "str"
            ]
          },
          "metadata": {},
          "execution_count": 8
        }
      ]
    },
    {
      "cell_type": "markdown",
      "source": [
        "**4. Convert a list to a Tuple.**"
      ],
      "metadata": {
        "id": "XKxqr7BmKx9z"
      }
    },
    {
      "cell_type": "code",
      "source": [
        "def convertlist (list1):\n",
        "  return tuple(list1)\n",
        "\n",
        "list1=[1,2,3,4,5,6]\n",
        "print(convertlist(list1))"
      ],
      "metadata": {
        "colab": {
          "base_uri": "https://localhost:8080/"
        },
        "id": "NEXJUG72K2mV",
        "outputId": "0522b699-b02a-43da-a537-004c38e9df6b"
      },
      "execution_count": 15,
      "outputs": [
        {
          "output_type": "stream",
          "name": "stdout",
          "text": [
            "(1, 2, 3, 4, 5, 6)\n"
          ]
        }
      ]
    },
    {
      "cell_type": "markdown",
      "source": [
        "**5. Convert a tuple to a list.**"
      ],
      "metadata": {
        "id": "tI7wPKVWMBzj"
      }
    },
    {
      "cell_type": "code",
      "source": [
        "def tuple_to_list(t):\n",
        "    return [*t]\n",
        "# Using ASTERIX Operator it unpackes all the existing elements of tuple.\n",
        "tuple_1 = (1, 2, 3, 4, 5)\n",
        "print(tuple_to_list(tuple_1))\n",
        "# [1, 2, 3, 4, 5]"
      ],
      "metadata": {
        "colab": {
          "base_uri": "https://localhost:8080/"
        },
        "id": "x_7CFdCiMEHV",
        "outputId": "8a1bfd42-b206-403d-ed55-ce00a079572e"
      },
      "execution_count": 24,
      "outputs": [
        {
          "output_type": "stream",
          "name": "stdout",
          "text": [
            "[1, 2, 3, 4, 5]\n"
          ]
        }
      ]
    },
    {
      "cell_type": "markdown",
      "source": [
        "**6. Convert Decimal into Binary.**"
      ],
      "metadata": {
        "id": "SJ1DeKy3mNeY"
      }
    },
    {
      "cell_type": "code",
      "source": [
        "def convertBinary (num):\n",
        "  if num==0 or num==1:\n",
        "    print(num, end=\"\")\n",
        "    return\n",
        "  else:\n",
        "    convertBinary(int(num/2))\n",
        "    print(num%2, end=\"\")\n",
        "\n",
        "num = int(input(\"Enter the Number : \"))\n",
        "convertBinary(num)"
      ],
      "metadata": {
        "colab": {
          "base_uri": "https://localhost:8080/"
        },
        "id": "wZ8LuEl_mSji",
        "outputId": "df97b6a4-6881-4ae3-de0d-114c18ee534c"
      },
      "execution_count": 52,
      "outputs": [
        {
          "output_type": "stream",
          "name": "stdout",
          "text": [
            "Enter the Number : 8\n",
            "1000"
          ]
        }
      ]
    },
    {
      "cell_type": "markdown",
      "source": [
        "**7. Convert a non-zero number into Boolean.**"
      ],
      "metadata": {
        "id": "hK0M5rT7n868"
      }
    },
    {
      "cell_type": "code",
      "source": [
        "a = 5\n",
        "b = bool(a)\n",
        "print(type(b))\n",
        "print(b)"
      ],
      "metadata": {
        "colab": {
          "base_uri": "https://localhost:8080/"
        },
        "id": "oAThylA_oE0h",
        "outputId": "d68fed53-742c-490d-bb5b-99a023d73c12"
      },
      "execution_count": 54,
      "outputs": [
        {
          "output_type": "stream",
          "name": "stdout",
          "text": [
            "<class 'bool'>\n",
            "True\n"
          ]
        }
      ]
    }
  ]
}