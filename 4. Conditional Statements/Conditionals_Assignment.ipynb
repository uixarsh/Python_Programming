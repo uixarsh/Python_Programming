{
  "nbformat": 4,
  "nbformat_minor": 0,
  "metadata": {
    "colab": {
      "provenance": []
    },
    "kernelspec": {
      "name": "python3",
      "display_name": "Python 3"
    },
    "language_info": {
      "name": "python"
    }
  },
  "cells": [
    {
      "cell_type": "markdown",
      "source": [
        "**1. Write a program to check if a Number is Positive or Negative.**"
      ],
      "metadata": {
        "id": "6qQrXpoGkHRQ"
      }
    },
    {
      "cell_type": "code",
      "source": [
        "a = int(input(\"Enter a Number to Check : \"))\n",
        "if a>0:\n",
        "  print(\"Positive\")\n",
        "elif a==0:\n",
        "  print(\"Zero\")\n",
        "else:\n",
        "  print(\"Negative\")"
      ],
      "metadata": {
        "colab": {
          "base_uri": "https://localhost:8080/"
        },
        "id": "6OqpNeaakN0E",
        "outputId": "97d2b56d-de59-4e13-f181-78772f2c9fa3"
      },
      "execution_count": 4,
      "outputs": [
        {
          "output_type": "stream",
          "name": "stdout",
          "text": [
            "Enter a Number to Check : -5\n",
            "Negative\n"
          ]
        }
      ]
    },
    {
      "cell_type": "markdown",
      "source": [
        "**2. Write a program to determine the grades based on students Marks.**"
      ],
      "metadata": {
        "id": "MYAJa4POkp09"
      }
    },
    {
      "cell_type": "code",
      "source": [
        "grades = int (input(\"Enter the Number received by student (out of 100) : \"))\n",
        "if grades>=90:\n",
        "  print(\"A\")\n",
        "elif grades>=70 and grades<90:\n",
        "  print(\"B\")\n",
        "else:\n",
        "  print(\"C\")"
      ],
      "metadata": {
        "colab": {
          "base_uri": "https://localhost:8080/"
        },
        "id": "2_qRvuGakxAx",
        "outputId": "bf80c94f-0397-44e0-f611-93506c348cb6"
      },
      "execution_count": 6,
      "outputs": [
        {
          "output_type": "stream",
          "name": "stdout",
          "text": [
            "Enter the Number received by student (out of 100) : 100\n",
            "A\n"
          ]
        }
      ]
    },
    {
      "cell_type": "markdown",
      "source": [
        "**3. Write a program to check season based on the month number.**"
      ],
      "metadata": {
        "id": "EVN_zCEllL1-"
      }
    },
    {
      "cell_type": "code",
      "source": [
        "monthNo= int (input(\"Enter the Month in Number : \"))\n",
        "if monthNo>=1 and monthNo<=3:\n",
        "  print(\"Winters\")\n",
        "elif monthNo>=4 and monthNo<=10:\n",
        "  print(\"Summers\")\n",
        "else:\n",
        "  print(\"Winters\")\n"
      ],
      "metadata": {
        "colab": {
          "base_uri": "https://localhost:8080/"
        },
        "id": "5gm62BZalS20",
        "outputId": "dbf8b796-6920-4b33-abc8-2c3a37166466"
      },
      "execution_count": 9,
      "outputs": [
        {
          "output_type": "stream",
          "name": "stdout",
          "text": [
            "Enter the Month in Number : 10\n",
            "Summers\n"
          ]
        }
      ]
    },
    {
      "cell_type": "markdown",
      "source": [
        "**4. Write a program to determine the type of Triangle based on the sides.**"
      ],
      "metadata": {
        "id": "wN_l-MM7l682"
      }
    },
    {
      "cell_type": "code",
      "source": [
        "print('''1. Does Triangle has all 3 Sides Equal.\n",
        "2. Are there any 2 sides of Triangle Equal.\n",
        "3. If no Side is Equal.''')\n",
        "a = int(input())\n",
        "if a==1:\n",
        "  print(\"Equilateral Triangle\")\n",
        "elif a==2:\n",
        "  print(\"Isosceles Triangle\")\n",
        "elif a==3:\n",
        "  print(\"Scalene Traingle\")\n",
        "else:\n",
        "  print(\"Incorrect Data entered.....\")\n"
      ],
      "metadata": {
        "colab": {
          "base_uri": "https://localhost:8080/"
        },
        "id": "AU5m_HK4mBGH",
        "outputId": "b619abe8-47a3-4878-cb75-a763fc483c54"
      },
      "execution_count": 12,
      "outputs": [
        {
          "output_type": "stream",
          "name": "stdout",
          "text": [
            "1. Does Triangle has all 3 Sides Equal.\n",
            "2. Are there any 2 sides of Triangle Equal.\n",
            "3. If no Side is Equal.\n",
            "2\n",
            "Isosceles Triangle\n"
          ]
        }
      ]
    },
    {
      "cell_type": "markdown",
      "source": [
        "**5. Write a program to check if an Year is leap or not?**"
      ],
      "metadata": {
        "id": "xwUJLcm9nQlH"
      }
    },
    {
      "cell_type": "code",
      "source": [
        "def checkLeap (yearNo):\n",
        "  if (yearNo%4==0 and yearNo%100!=0) or yearNo%400==0:\n",
        "    print(\"Leap Year\")\n",
        "  else:\n",
        "    print(\"Regular Year\")\n",
        "yearNo=int(input(\"Enter the Year : \"))\n",
        "checkLeap(yearNo)"
      ],
      "metadata": {
        "colab": {
          "base_uri": "https://localhost:8080/"
        },
        "id": "HhiJ5uCXnVdh",
        "outputId": "a694bcb8-4f2f-498c-fb24-3ab0be70a9ce"
      },
      "execution_count": 22,
      "outputs": [
        {
          "output_type": "stream",
          "name": "stdout",
          "text": [
            "Enter the Year : 4523\n",
            "Regular Year\n"
          ]
        }
      ]
    },
    {
      "cell_type": "markdown",
      "source": [
        "**6. Check if the number is in the specified range or not.**"
      ],
      "metadata": {
        "id": "zcSTFz4Yoo7N"
      }
    },
    {
      "cell_type": "code",
      "source": [
        "a = int(input(\" Enter the Number b/w 1 to 100 : \"))\n",
        "for i in range (101):\n",
        "  if i==a:\n",
        "    print(\"In range\")"
      ],
      "metadata": {
        "colab": {
          "base_uri": "https://localhost:8080/"
        },
        "id": "hJ3FLVqOovCr",
        "outputId": "db8723db-d83a-42f7-ef13-e2f83bb9cedc"
      },
      "execution_count": 28,
      "outputs": [
        {
          "output_type": "stream",
          "name": "stdout",
          "text": [
            " Enter the Number b/w 1 to 100 : 7\n",
            "In range\n"
          ]
        }
      ]
    }
  ]
}