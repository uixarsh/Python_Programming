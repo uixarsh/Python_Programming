{
  "nbformat": 4,
  "nbformat_minor": 0,
  "metadata": {
    "colab": {
      "provenance": []
    },
    "kernelspec": {
      "name": "python3",
      "display_name": "Python 3"
    },
    "language_info": {
      "name": "python"
    }
  },
  "cells": [
    {
      "cell_type": "markdown",
      "source": [
        "**1. Print numbers from 1 to 5 using a While loop.**"
      ],
      "metadata": {
        "id": "oSPX2nCpqVfx"
      }
    },
    {
      "cell_type": "code",
      "source": [
        "num=5\n",
        "\n",
        "while num>0:\n",
        "  print(num, end=\"\")\n",
        "  num-=1\n"
      ],
      "metadata": {
        "colab": {
          "base_uri": "https://localhost:8080/"
        },
        "id": "UMgkFjKSqdlL",
        "outputId": "0df9a9f4-1ce5-4093-9f87-984d79fee36a"
      },
      "execution_count": null,
      "outputs": [
        {
          "output_type": "stream",
          "name": "stdout",
          "text": [
            "54321"
          ]
        }
      ]
    },
    {
      "cell_type": "markdown",
      "source": [
        "**2. Calculate the Sum of numbers from 1 to 10 using a while loop.**"
      ],
      "metadata": {
        "id": "zcVVm3IRrA1J"
      }
    },
    {
      "cell_type": "code",
      "source": [
        "num=1\n",
        "sum=0\n",
        "\n",
        "while num<=10:\n",
        "  sum+=num\n",
        "  num+=1\n",
        "\n",
        "\n",
        "print(sum)"
      ],
      "metadata": {
        "colab": {
          "base_uri": "https://localhost:8080/"
        },
        "id": "UfkVunL0rIzv",
        "outputId": "e5314eb9-08ac-499b-c511-e05e751e7478"
      },
      "execution_count": null,
      "outputs": [
        {
          "output_type": "stream",
          "name": "stdout",
          "text": [
            "55\n"
          ]
        }
      ]
    },
    {
      "cell_type": "markdown",
      "source": [
        "**3. Calculate the Factorial of a number using a for loop.**"
      ],
      "metadata": {
        "id": "9pj_GIyfsSNq"
      }
    },
    {
      "cell_type": "code",
      "source": [
        "def factorial (num):\n",
        "  if num==1 or num==0:\n",
        "    return 1\n",
        "  else:\n",
        "    return num*factorial(num-1)\n",
        "\n",
        "num = int(input(\"Enter the Number : \"))\n",
        "print(factorial(num))"
      ],
      "metadata": {
        "colab": {
          "base_uri": "https://localhost:8080/"
        },
        "id": "mPf3EDpUsa1M",
        "outputId": "d5a0f064-bef7-435d-be53-35bccb02caf4"
      },
      "execution_count": 15,
      "outputs": [
        {
          "output_type": "stream",
          "name": "stdout",
          "text": [
            "Enter the Number : 0\n",
            "1\n"
          ]
        }
      ]
    },
    {
      "cell_type": "markdown",
      "source": [
        "**4. Count the number of vowels in a string using a loop.**"
      ],
      "metadata": {
        "id": "WsAircWs_FqB"
      }
    },
    {
      "cell_type": "code",
      "source": [
        "def countStrings (name):\n",
        "  count=0\n",
        "  for i in range (0,len(name)):\n",
        "    if name[i]=='a' or name[i]=='e' or name[i]=='o' or name[i]=='u' or name[i]=='i'or name[i]=='A' or name[i]== 'E' or name[i]=='I' or name[i]=='O' or name[i]=='U':\n",
        "      count+=1\n",
        "  return count\n",
        "\n",
        "name = str(input(\"Enter the name : \"))\n",
        "print(countStrings(name))"
      ],
      "metadata": {
        "colab": {
          "base_uri": "https://localhost:8080/"
        },
        "id": "qaDnWm4C_Mag",
        "outputId": "959474ae-6d56-4d53-ed30-d36f750edab8"
      },
      "execution_count": 14,
      "outputs": [
        {
          "output_type": "stream",
          "name": "stdout",
          "text": [
            "Enter the name : Arsh\n",
            "1\n"
          ]
        }
      ]
    },
    {
      "cell_type": "markdown",
      "source": [
        "**5. Print a pattern using Nested Loops.**"
      ],
      "metadata": {
        "id": "Pm2YhCAxCPMs"
      }
    },
    {
      "cell_type": "code",
      "source": [
        "a = int(input(\"Enter the Rows : \"))\n",
        "b = int(input(\"Enter the Columns : \"))\n",
        "\n",
        "for i in range (0,a):\n",
        "  for j in range (1,b):\n",
        "    print(\"*\",end=\"\")\n",
        "  print(\"*\")\n"
      ],
      "metadata": {
        "colab": {
          "base_uri": "https://localhost:8080/"
        },
        "id": "mek4c5rxCULj",
        "outputId": "8489526a-5abf-4b6b-f82f-eab0a3d20257"
      },
      "execution_count": 28,
      "outputs": [
        {
          "output_type": "stream",
          "name": "stdout",
          "text": [
            "Enter the Rows : 7\n",
            "Enter the Columns : 7\n",
            "*******\n",
            "*******\n",
            "*******\n",
            "*******\n",
            "*******\n",
            "*******\n",
            "*******\n"
          ]
        }
      ]
    },
    {
      "cell_type": "code",
      "source": [
        "a = int(input(\"Enter the Rows : \"))\n",
        "b = int(input(\"Enter the Columns : \"))\n",
        "\n",
        "for i in range (0,a):\n",
        "  for j in range (0,i):\n",
        "    print(\"*\",end=\"\")\n",
        "  print(\"*\")"
      ],
      "metadata": {
        "colab": {
          "base_uri": "https://localhost:8080/"
        },
        "id": "8HobGoqyDu6v",
        "outputId": "a570c61a-28a8-4ac4-ca76-defa7bbf16e0"
      },
      "execution_count": 30,
      "outputs": [
        {
          "output_type": "stream",
          "name": "stdout",
          "text": [
            "Enter the Rows : 4\n",
            "Enter the Columns : 4\n",
            "*\n",
            "**\n",
            "***\n",
            "****\n"
          ]
        }
      ]
    },
    {
      "cell_type": "markdown",
      "source": [
        "**6. Generate a multiplication table using Nested Loops.**"
      ],
      "metadata": {
        "id": "H0IUHUUEKI7H"
      }
    },
    {
      "cell_type": "code",
      "source": [
        "for i in range (1,10):\n",
        "  for j in range (1,10):\n",
        "    print(f\"{i} x {j} = \",i*j)"
      ],
      "metadata": {
        "colab": {
          "base_uri": "https://localhost:8080/"
        },
        "id": "UrbBpNG8KNAP",
        "outputId": "4f2c4874-5410-4423-b665-a0d5761bbc64"
      },
      "execution_count": 54,
      "outputs": [
        {
          "output_type": "stream",
          "name": "stdout",
          "text": [
            "1 x 1 =  1\n",
            "1 x 2 =  2\n",
            "1 x 3 =  3\n",
            "1 x 4 =  4\n",
            "1 x 5 =  5\n",
            "1 x 6 =  6\n",
            "1 x 7 =  7\n",
            "1 x 8 =  8\n",
            "1 x 9 =  9\n",
            "2 x 1 =  2\n",
            "2 x 2 =  4\n",
            "2 x 3 =  6\n",
            "2 x 4 =  8\n",
            "2 x 5 =  10\n",
            "2 x 6 =  12\n",
            "2 x 7 =  14\n",
            "2 x 8 =  16\n",
            "2 x 9 =  18\n",
            "3 x 1 =  3\n",
            "3 x 2 =  6\n",
            "3 x 3 =  9\n",
            "3 x 4 =  12\n",
            "3 x 5 =  15\n",
            "3 x 6 =  18\n",
            "3 x 7 =  21\n",
            "3 x 8 =  24\n",
            "3 x 9 =  27\n",
            "4 x 1 =  4\n",
            "4 x 2 =  8\n",
            "4 x 3 =  12\n",
            "4 x 4 =  16\n",
            "4 x 5 =  20\n",
            "4 x 6 =  24\n",
            "4 x 7 =  28\n",
            "4 x 8 =  32\n",
            "4 x 9 =  36\n",
            "5 x 1 =  5\n",
            "5 x 2 =  10\n",
            "5 x 3 =  15\n",
            "5 x 4 =  20\n",
            "5 x 5 =  25\n",
            "5 x 6 =  30\n",
            "5 x 7 =  35\n",
            "5 x 8 =  40\n",
            "5 x 9 =  45\n",
            "6 x 1 =  6\n",
            "6 x 2 =  12\n",
            "6 x 3 =  18\n",
            "6 x 4 =  24\n",
            "6 x 5 =  30\n",
            "6 x 6 =  36\n",
            "6 x 7 =  42\n",
            "6 x 8 =  48\n",
            "6 x 9 =  54\n",
            "7 x 1 =  7\n",
            "7 x 2 =  14\n",
            "7 x 3 =  21\n",
            "7 x 4 =  28\n",
            "7 x 5 =  35\n",
            "7 x 6 =  42\n",
            "7 x 7 =  49\n",
            "7 x 8 =  56\n",
            "7 x 9 =  63\n",
            "8 x 1 =  8\n",
            "8 x 2 =  16\n",
            "8 x 3 =  24\n",
            "8 x 4 =  32\n",
            "8 x 5 =  40\n",
            "8 x 6 =  48\n",
            "8 x 7 =  56\n",
            "8 x 8 =  64\n",
            "8 x 9 =  72\n",
            "9 x 1 =  9\n",
            "9 x 2 =  18\n",
            "9 x 3 =  27\n",
            "9 x 4 =  36\n",
            "9 x 5 =  45\n",
            "9 x 6 =  54\n",
            "9 x 7 =  63\n",
            "9 x 8 =  72\n",
            "9 x 9 =  81\n"
          ]
        }
      ]
    }
  ]
}